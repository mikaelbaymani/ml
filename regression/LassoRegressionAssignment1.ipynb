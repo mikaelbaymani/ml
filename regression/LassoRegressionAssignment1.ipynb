{
 "cells": [
  {
   "cell_type": "markdown",
   "metadata": {},
   "source": [
    "In this assignment, you will use LASSO to select features, building on a pre-implemented solver for LASSO (using GraphLab Create, though you can use other solvers). You will:\n",
    "\n",
    "* Run LASSO with different L1 penalties.\n",
    "* Choose best L1 penalty using a validation set.\n",
    "* Choose best L1 penalty using a validation set, with additional constraint on the size of subset.\n",
    "\n",
    "In the second assignment, you will implement your own LASSO solver, using coordinate descent."
   ]
  },
  {
   "cell_type": "code",
   "execution_count": 1,
   "metadata": {},
   "outputs": [
    {
     "name": "stdout",
     "output_type": "stream",
     "text": [
      "This non-commercial license of GraphLab Create for academic use is assigned to mikael.baymani@gmail.com and will expire on May 13, 2020.\n"
     ]
    },
    {
     "name": "stderr",
     "output_type": "stream",
     "text": [
      "[INFO] graphlab.cython.cy_server: GraphLab Create v2.1 started. Logging: /tmp/graphlab_server_1565594043.log\n"
     ]
    }
   ],
   "source": [
    "import graphlab\n",
    "sales = graphlab.SFrame('kc_house_data.gl/')"
   ]
  },
  {
   "cell_type": "code",
   "execution_count": 2,
   "metadata": {},
   "outputs": [],
   "source": [
    "from math import log, sqrt\n",
    "sales['sqft_living_sqrt'] = sales['sqft_living'].apply(sqrt)\n",
    "sales['sqft_lot_sqrt'] = sales['sqft_lot'].apply(sqrt)\n",
    "sales['bedrooms_square'] = sales['bedrooms']*sales['bedrooms']\n",
    "\n",
    "# In the dataset, 'floors' was defined with type string, \n",
    "# so we'll convert them to float, before creating a new feature.\n",
    "sales['floors'] = sales['floors'].astype(float) \n",
    "sales['floors_square'] = sales['floors']*sales['floors']"
   ]
  },
  {
   "cell_type": "code",
   "execution_count": 3,
   "metadata": {},
   "outputs": [],
   "source": [
    "# * Squaring bedrooms will increase the separation between not many bedrooms (e.g. 1) and lots of\n",
    "#   bedrooms (e.g. 4) since 1^2 = 1 but 4^2 = 16. Consequently this variable will mostly affect houses\n",
    "#   with many bedrooms.\n",
    "# * On the other hand, taking square root of sqft_living will decrease the separation between big house\n",
    "#   and small house. The owner may not be exactly twice as happy for getting a house that is twice as big."
   ]
  },
  {
   "cell_type": "markdown",
   "metadata": {},
   "source": [
    "## Learn regression weights with L1 penalty"
   ]
  },
  {
   "cell_type": "code",
   "execution_count": 4,
   "metadata": {},
   "outputs": [],
   "source": [
    "all_features = ['bedrooms', 'bedrooms_square',\n",
    "                'bathrooms',\n",
    "                'sqft_living', 'sqft_living_sqrt',\n",
    "                'sqft_lot', 'sqft_lot_sqrt',\n",
    "                'floors', 'floors_square',\n",
    "                'waterfront', 'view', 'condition', 'grade',\n",
    "                'sqft_above',\n",
    "                'sqft_basement',\n",
    "                'yr_built', 'yr_renovated']"
   ]
  },
  {
   "cell_type": "code",
   "execution_count": 5,
   "metadata": {},
   "outputs": [
    {
     "data": {
      "text/html": [
       "<pre>Linear regression:</pre>"
      ],
      "text/plain": [
       "Linear regression:"
      ]
     },
     "metadata": {},
     "output_type": "display_data"
    },
    {
     "data": {
      "text/html": [
       "<pre>--------------------------------------------------------</pre>"
      ],
      "text/plain": [
       "--------------------------------------------------------"
      ]
     },
     "metadata": {},
     "output_type": "display_data"
    },
    {
     "data": {
      "text/html": [
       "<pre>Number of examples          : 21613</pre>"
      ],
      "text/plain": [
       "Number of examples          : 21613"
      ]
     },
     "metadata": {},
     "output_type": "display_data"
    },
    {
     "data": {
      "text/html": [
       "<pre>Number of features          : 17</pre>"
      ],
      "text/plain": [
       "Number of features          : 17"
      ]
     },
     "metadata": {},
     "output_type": "display_data"
    },
    {
     "data": {
      "text/html": [
       "<pre>Number of unpacked features : 17</pre>"
      ],
      "text/plain": [
       "Number of unpacked features : 17"
      ]
     },
     "metadata": {},
     "output_type": "display_data"
    },
    {
     "data": {
      "text/html": [
       "<pre>Number of coefficients    : 18</pre>"
      ],
      "text/plain": [
       "Number of coefficients    : 18"
      ]
     },
     "metadata": {},
     "output_type": "display_data"
    },
    {
     "data": {
      "text/html": [
       "<pre>Starting Accelerated Gradient (FISTA)</pre>"
      ],
      "text/plain": [
       "Starting Accelerated Gradient (FISTA)"
      ]
     },
     "metadata": {},
     "output_type": "display_data"
    },
    {
     "data": {
      "text/html": [
       "<pre>--------------------------------------------------------</pre>"
      ],
      "text/plain": [
       "--------------------------------------------------------"
      ]
     },
     "metadata": {},
     "output_type": "display_data"
    },
    {
     "data": {
      "text/html": [
       "<pre>+-----------+----------+-----------+--------------+--------------------+---------------+</pre>"
      ],
      "text/plain": [
       "+-----------+----------+-----------+--------------+--------------------+---------------+"
      ]
     },
     "metadata": {},
     "output_type": "display_data"
    },
    {
     "data": {
      "text/html": [
       "<pre>| Iteration | Passes   | Step size | Elapsed Time | Training-max_error | Training-rmse |</pre>"
      ],
      "text/plain": [
       "| Iteration | Passes   | Step size | Elapsed Time | Training-max_error | Training-rmse |"
      ]
     },
     "metadata": {},
     "output_type": "display_data"
    },
    {
     "data": {
      "text/html": [
       "<pre>+-----------+----------+-----------+--------------+--------------------+---------------+</pre>"
      ],
      "text/plain": [
       "+-----------+----------+-----------+--------------+--------------------+---------------+"
      ]
     },
     "metadata": {},
     "output_type": "display_data"
    },
    {
     "data": {
      "text/html": [
       "<pre>Tuning step size. First iteration could take longer than subsequent iterations.</pre>"
      ],
      "text/plain": [
       "Tuning step size. First iteration could take longer than subsequent iterations."
      ]
     },
     "metadata": {},
     "output_type": "display_data"
    },
    {
     "data": {
      "text/html": [
       "<pre>| 1         | 2        | 0.000002  | 1.800026     | 6962915.603493     | 426631.749026 |</pre>"
      ],
      "text/plain": [
       "| 1         | 2        | 0.000002  | 1.800026     | 6962915.603493     | 426631.749026 |"
      ]
     },
     "metadata": {},
     "output_type": "display_data"
    },
    {
     "data": {
      "text/html": [
       "<pre>| 2         | 3        | 0.000002  | 1.878405     | 6843144.200219     | 392488.929838 |</pre>"
      ],
      "text/plain": [
       "| 2         | 3        | 0.000002  | 1.878405     | 6843144.200219     | 392488.929838 |"
      ]
     },
     "metadata": {},
     "output_type": "display_data"
    },
    {
     "data": {
      "text/html": [
       "<pre>| 3         | 4        | 0.000002  | 1.960575     | 6831900.032123     | 385340.166783 |</pre>"
      ],
      "text/plain": [
       "| 3         | 4        | 0.000002  | 1.960575     | 6831900.032123     | 385340.166783 |"
      ]
     },
     "metadata": {},
     "output_type": "display_data"
    },
    {
     "data": {
      "text/html": [
       "<pre>| 4         | 5        | 0.000002  | 2.032005     | 6847166.848958     | 384842.383767 |</pre>"
      ],
      "text/plain": [
       "| 4         | 5        | 0.000002  | 2.032005     | 6847166.848958     | 384842.383767 |"
      ]
     },
     "metadata": {},
     "output_type": "display_data"
    },
    {
     "data": {
      "text/html": [
       "<pre>| 5         | 6        | 0.000002  | 2.117921     | 6869667.895833     | 385998.458623 |</pre>"
      ],
      "text/plain": [
       "| 5         | 6        | 0.000002  | 2.117921     | 6869667.895833     | 385998.458623 |"
      ]
     },
     "metadata": {},
     "output_type": "display_data"
    },
    {
     "data": {
      "text/html": [
       "<pre>| 6         | 7        | 0.000002  | 2.196565     | 6847177.773672     | 380824.455891 |</pre>"
      ],
      "text/plain": [
       "| 6         | 7        | 0.000002  | 2.196565     | 6847177.773672     | 380824.455891 |"
      ]
     },
     "metadata": {},
     "output_type": "display_data"
    },
    {
     "data": {
      "text/html": [
       "<pre>+-----------+----------+-----------+--------------+--------------------+---------------+</pre>"
      ],
      "text/plain": [
       "+-----------+----------+-----------+--------------+--------------------+---------------+"
      ]
     },
     "metadata": {},
     "output_type": "display_data"
    },
    {
     "data": {
      "text/html": [
       "<pre>TERMINATED: Iteration limit reached.</pre>"
      ],
      "text/plain": [
       "TERMINATED: Iteration limit reached."
      ]
     },
     "metadata": {},
     "output_type": "display_data"
    },
    {
     "data": {
      "text/html": [
       "<pre>This model may not be optimal. To improve it, consider increasing `max_iterations`.</pre>"
      ],
      "text/plain": [
       "This model may not be optimal. To improve it, consider increasing `max_iterations`."
      ]
     },
     "metadata": {},
     "output_type": "display_data"
    }
   ],
   "source": [
    "model_all = graphlab.linear_regression.create(sales, target='price', features=all_features,\n",
    "                                               validation_set=None, l2_penalty=0., l1_penalty=1e10)"
   ]
  },
  {
   "cell_type": "code",
   "execution_count": 74,
   "metadata": {},
   "outputs": [
    {
     "name": "stdout",
     "output_type": "stream",
     "text": [
      "17\n",
      "18\n",
      "['bathrooms', 'sqft_living', 'sqft_living_sqrt', 'grade', 'sqft_above']\n"
     ]
    }
   ],
   "source": [
    "# Note that a majority of the weights have been set to zero. So by setting an L1 penalty that's\n",
    "# large enough, we are performing a subset selection.\n",
    "\n",
    "# QUIZ QUESTION: According to this list of weights, which of the features have been chosen?\n",
    "print len(all_features)\n",
    "print len(model_all.coefficients['value'])\n",
    "print [all_features[i-1] for i in range(len(model_all.coefficients['value'])) if i != 0 and model_all.coefficients['value'][i] != 0]"
   ]
  },
  {
   "cell_type": "markdown",
   "metadata": {},
   "source": [
    "## Selecting an L1 penalty"
   ]
  },
  {
   "cell_type": "code",
   "execution_count": 21,
   "metadata": {},
   "outputs": [],
   "source": [
    "# To find a good L1 penalty, we will explore multiple values using a validation set.\n",
    "# Let us do three way split into train, validation, and test sets:\n",
    "\n",
    "# * Split our sales data into 2 sets: training and test\n",
    "# * Further split our training data into two sets: train, validation"
   ]
  },
  {
   "cell_type": "code",
   "execution_count": 22,
   "metadata": {},
   "outputs": [],
   "source": [
    "(training_and_validation, testing) = sales.random_split(.9,seed=1)\n",
    "(training, validation) = training_and_validation.random_split(0.5, seed=1)"
   ]
  },
  {
   "cell_type": "code",
   "execution_count": 42,
   "metadata": {},
   "outputs": [
    {
     "name": "stdout",
     "output_type": "stream",
     "text": [
      "l1_penalty: 10\n",
      "l1_penalty: 32\n",
      "l1_penalty: 100\n",
      "l1_penalty: 316\n",
      "l1_penalty: 1000\n",
      "l1_penalty: 3162\n",
      "l1_penalty: 10000\n",
      "l1_penalty: 31623\n",
      "l1_penalty: 100000\n",
      "l1_penalty: 316228\n",
      "l1_penalty: 1000000\n",
      "l1_penalty: 3162278\n",
      "l1_penalty: 10000000\n",
      "L1 penalty: 10.0, RSS: 625766285142460.6\n"
     ]
    }
   ],
   "source": [
    "import numpy as np\n",
    "min_rss = None\n",
    "best_l1_penalty = None\n",
    "for l1_penalty in np.logspace(1, 7, num=13):\n",
    "    print \"l1_penalty: %.f\" % l1_penalty\n",
    "    model = graphlab.linear_regression.create(training, target='price', features=all_features,\n",
    "                                              validation_set=None, l2_penalty=0., l1_penalty=l1_penalty,\n",
    "                                              verbose=False)\n",
    "    \n",
    "    pred = model.predict(validation)\n",
    "    errors = pred - validation['price']\n",
    "    rss = np.dot(errors, errors)\n",
    "    \n",
    "    if best_l1_penalty is None or rss < min_rss:\n",
    "        best_l1_penalty = l1_penalty\n",
    "        min_rss = rss\n",
    "\n",
    "print \"L1 penalty: \" + str(best_l1_penalty) + \", RSS: \" + str(min_rss)"
   ]
  },
  {
   "cell_type": "code",
   "execution_count": 33,
   "metadata": {},
   "outputs": [],
   "source": [
    "# * QUIZ QUESTION. * What was the best value for the l1_penalty?\n",
    "# 10"
   ]
  },
  {
   "cell_type": "code",
   "execution_count": 34,
   "metadata": {},
   "outputs": [],
   "source": [
    "# QUIZ QUESTION Also, using this value of L1 penalty, how many nonzero weights do you have?"
   ]
  },
  {
   "cell_type": "code",
   "execution_count": 35,
   "metadata": {},
   "outputs": [],
   "source": [
    "model = graphlab.linear_regression.create(training, target='price', features=all_features,\n",
    "                                              validation_set=None, l2_penalty=0., l1_penalty=best_l1_penalty,\n",
    "                                              verbose=False)"
   ]
  },
  {
   "cell_type": "code",
   "execution_count": 43,
   "metadata": {},
   "outputs": [
    {
     "data": {
      "text/plain": [
       "18"
      ]
     },
     "execution_count": 43,
     "metadata": {},
     "output_type": "execute_result"
    }
   ],
   "source": [
    "model.coefficients['value'].nnz()"
   ]
  },
  {
   "cell_type": "markdown",
   "metadata": {},
   "source": [
    "## Limit the number of nonzero weights"
   ]
  },
  {
   "cell_type": "code",
   "execution_count": 44,
   "metadata": {},
   "outputs": [],
   "source": [
    "# What if we absolutely wanted to limit ourselves to, say, 7 features? This may be important if we\n",
    "# want to derive \"a rule of thumb\" --- an interpretable model that has only a few features in them."
   ]
  },
  {
   "cell_type": "code",
   "execution_count": 46,
   "metadata": {},
   "outputs": [],
   "source": [
    "# In this section, you are going to implement a simple, two phase procedure to achive this goal:\n",
    "\n",
    "# 1) Explore a large range of l1_penalty values to find a narrow region of l1_penalty values where\n",
    "#    models are likely to have the desired number of non-zero weights.\n",
    "# 2) Further explore the narrow region you found to find a good value for l1_penalty that achieves\n",
    "#    the desired sparsity. Here, we will again use a validation set to choose the best value for l1_penalty.\n",
    "max_nonzeros = 7"
   ]
  },
  {
   "cell_type": "code",
   "execution_count": 50,
   "metadata": {},
   "outputs": [
    {
     "name": "stdout",
     "output_type": "stream",
     "text": [
      "l1_penalty = 100000000\n",
      "(l1_penalty, # nonzeros) = (100000000.0, 18)\n",
      "l1_penalty = 127427499\n",
      "(l1_penalty, # nonzeros) = (127427498.57031322, 18)\n",
      "l1_penalty = 162377674\n",
      "(l1_penalty, # nonzeros) = (162377673.91887242, 18)\n",
      "l1_penalty = 206913808\n",
      "(l1_penalty, # nonzeros) = (206913808.111479, 18)\n",
      "l1_penalty = 263665090\n",
      "(l1_penalty, # nonzeros) = (263665089.87303555, 17)\n",
      "l1_penalty = 335981829\n",
      "(l1_penalty, # nonzeros) = (335981828.6283788, 17)\n",
      "l1_penalty = 428133240\n",
      "(l1_penalty, # nonzeros) = (428133239.8719396, 17)\n",
      "l1_penalty = 545559478\n",
      "(l1_penalty, # nonzeros) = (545559478.1168514, 17)\n",
      "l1_penalty = 695192796\n",
      "(l1_penalty, # nonzeros) = (695192796.1775591, 17)\n",
      "l1_penalty = 885866790\n",
      "(l1_penalty, # nonzeros) = (885866790.4100832, 16)\n",
      "l1_penalty = 1128837892\n",
      "(l1_penalty, # nonzeros) = (1128837891.6846883, 15)\n",
      "l1_penalty = 1438449888\n",
      "(l1_penalty, # nonzeros) = (1438449888.2876658, 15)\n",
      "l1_penalty = 1832980711\n",
      "(l1_penalty, # nonzeros) = (1832980710.8324375, 13)\n",
      "l1_penalty = 2335721469\n",
      "(l1_penalty, # nonzeros) = (2335721469.0901213, 12)\n",
      "l1_penalty = 2976351442\n",
      "(l1_penalty, # nonzeros) = (2976351441.6313133, 10)\n",
      "l1_penalty = 3792690191\n",
      "(l1_penalty, # nonzeros) = (3792690190.7322536, 6)\n",
      "l1_penalty = 4832930239\n",
      "(l1_penalty, # nonzeros) = (4832930238.571753, 5)\n",
      "l1_penalty = 6158482111\n",
      "(l1_penalty, # nonzeros) = (6158482110.6602545, 3)\n",
      "l1_penalty = 7847599704\n",
      "(l1_penalty, # nonzeros) = (7847599703.514623, 1)\n",
      "l1_penalty = 10000000000\n",
      "(l1_penalty, # nonzeros) = (10000000000.0, 1)\n"
     ]
    }
   ],
   "source": [
    "l1_penalties = []\n",
    "for l1_penalty in np.logspace(8, 10, num=20):\n",
    "    print \"l1_penalty = %.f\" % l1_penalty\n",
    "    \n",
    "    model = graphlab.linear_regression.create(training, target='price', features=all_features,\n",
    "                                              validation_set=None, l2_penalty=0., l1_penalty=l1_penalty,\n",
    "                                              verbose=False)\n",
    "    \n",
    "    l1_penalties.append( (l1_penalty, model['coefficients']['value'].nnz()) )\n",
    "    print \"(l1_penalty, # nonzeros) = \" + str(l1_penalties[-1])"
   ]
  },
  {
   "cell_type": "code",
   "execution_count": 58,
   "metadata": {},
   "outputs": [
    {
     "name": "stdout",
     "output_type": "stream",
     "text": [
      "l1_penalty_min=2976351441.6313133\n",
      "l1_penalty_max=3792690190.7322536\n"
     ]
    }
   ],
   "source": [
    "# QUIZ QUESTION. What values did you find for l1_penalty_min and l1_penalty_max, respectively?\n",
    "l1_penalty_min = None\n",
    "l1_penalty_max = None\n",
    "for l1_penalty,nonzeros in l1_penalties:\n",
    "    if nonzeros >= max_nonzeros:\n",
    "        if l1_penalty_min is None or l1_penalty_min < l1_penalty:\n",
    "            l1_penalty_min = l1_penalty\n",
    "    else:\n",
    "        if l1_penalty_max is None or l1_penalty_max > l1_penalty:\n",
    "            l1_penalty_max = l1_penalty\n",
    "\n",
    "print \"l1_penalty_min=\" + str(l1_penalty_min)\n",
    "print \"l1_penalty_max=\" + str(l1_penalty_max)"
   ]
  },
  {
   "cell_type": "code",
   "execution_count": 75,
   "metadata": {},
   "outputs": [
    {
     "name": "stdout",
     "output_type": "stream",
     "text": [
      "l1_penalty = 2976351442\n",
      "skip!\n",
      "l1_penalty = 3019316639\n",
      "skip!\n",
      "l1_penalty = 3062281836\n",
      "skip!\n",
      "l1_penalty = 3105247034\n",
      "skip!\n",
      "l1_penalty = 3148212231\n",
      "skip!\n",
      "l1_penalty = 3191177428\n",
      "skip!\n",
      "l1_penalty = 3234142626\n",
      "skip!\n",
      "l1_penalty = 3277107823\n",
      "skip!\n",
      "l1_penalty = 3320073020\n",
      "skip!\n",
      "l1_penalty = 3363038218\n",
      "skip!\n",
      "l1_penalty = 3406003415\n",
      "skip!\n",
      "l1_penalty = 3448968612\n",
      "rss: 1046937488751711.0\n",
      "l1_penalty = 3491933809\n",
      "rss: 1051147625612862.2\n",
      "l1_penalty = 3534899007\n",
      "rss: 1055992735342999.6\n",
      "l1_penalty = 3577864204\n",
      "rss: 1060799531763288.0\n",
      "l1_penalty = 3620829401\n",
      "skip!\n",
      "l1_penalty = 3663794599\n",
      "skip!\n",
      "l1_penalty = 3706759796\n",
      "skip!\n",
      "l1_penalty = 3749724993\n",
      "skip!\n",
      "l1_penalty = 3792690191\n",
      "skip!\n",
      "L1 penalty: 3448968612.163437, RSS: 1046937488751711.0\n",
      "['bedrooms', 'bathrooms', 'sqft_living', 'sqft_living_sqrt', 'grade', 'sqft_above']\n"
     ]
    }
   ],
   "source": [
    "min_rss = None\n",
    "best_l1_penalty = None\n",
    "best_coefficients = None\n",
    "for l1_penalty in np.linspace(l1_penalty_min, l1_penalty_max, 20):\n",
    "    print \"l1_penalty = %.f\" % l1_penalty\n",
    "    model = graphlab.linear_regression.create(training, target='price', features=all_features,\n",
    "                                              validation_set=None, l2_penalty=0., l1_penalty=l1_penalty,\n",
    "                                              verbose=False)\n",
    "    \n",
    "    if model['coefficients']['value'].nnz() != max_nonzeros:\n",
    "        print \"skip!\"\n",
    "        continue\n",
    "        \n",
    "    pred = model.predict(validation)\n",
    "    errors = pred - validation['price']\n",
    "    rss = np.dot(errors, errors)\n",
    "    \n",
    "    print \"rss: \" + str(rss)\n",
    "    if best_l1_penalty is None or rss < min_rss:\n",
    "        best_l1_penalty = l1_penalty\n",
    "        min_rss = rss\n",
    "        best_coefficients = model['coefficients']['value']\n",
    "\n",
    "# QUIZ QUESTIONS\n",
    "# 1. What value of `l1_penalty` in our narrow range has the lowest RSS on the VALIDATION set\n",
    "#    and has sparsity *equal* to `max_nonzeros`?\n",
    "# 2. What features in this model have non-zero coefficients?\n",
    "print \"L1 penalty: \" + str(best_l1_penalty) + \", RSS: \" + str(min_rss)\n",
    "print [all_features[i-1] for i in range(len(best_coefficients)) if i != 0 and best_coefficients[i] != 0]"
   ]
  },
  {
   "cell_type": "code",
   "execution_count": null,
   "metadata": {},
   "outputs": [],
   "source": []
  }
 ],
 "metadata": {
  "kernelspec": {
   "display_name": "Python 2",
   "language": "python",
   "name": "python2"
  },
  "language_info": {
   "codemirror_mode": {
    "name": "ipython",
    "version": 2
   },
   "file_extension": ".py",
   "mimetype": "text/x-python",
   "name": "python",
   "nbconvert_exporter": "python",
   "pygments_lexer": "ipython2",
   "version": "2.7.15+"
  }
 },
 "nbformat": 4,
 "nbformat_minor": 2
}
