{
 "cells": [
  {
   "cell_type": "markdown",
   "metadata": {},
   "source": [
    "# Predicting house prices using k-nearest neighbors regression\n",
    "\n",
    "In this notebook, you will implement k-nearest neighbors regression. You will:\n",
    "\n",
    "* Find the k-nearest neighbors of a given query input\n",
    "* Predict the output for the query input using the k-nearest neighbors\n",
    "* Choose the best value of k using a validation set"
   ]
  },
  {
   "cell_type": "code",
   "execution_count": 1,
   "metadata": {},
   "outputs": [
    {
     "name": "stdout",
     "output_type": "stream",
     "text": [
      "This non-commercial license of GraphLab Create for academic use is assigned to mikael.baymani@gmail.com and will expire on May 13, 2020.\n"
     ]
    },
    {
     "name": "stderr",
     "output_type": "stream",
     "text": [
      "[INFO] graphlab.cython.cy_server: GraphLab Create v2.1 started. Logging: /tmp/graphlab_server_1565775436.log\n"
     ]
    }
   ],
   "source": [
    "import graphlab\n",
    "sales = graphlab.SFrame('kc_house_data_small.gl/')\n",
    "import numpy as np"
   ]
  },
  {
   "cell_type": "code",
   "execution_count": 2,
   "metadata": {},
   "outputs": [],
   "source": [
    "def get_numpy_data(data_sframe, features, output):\n",
    "    data_sframe['constant'] = 1 # add a constant column to an SFrame\n",
    "    # prepend variable 'constant' to the features list\n",
    "    features = ['constant'] + features\n",
    "    # select the columns of data_SFrame given by the ‘features’ list into the SFrame ‘features_sframe’\n",
    "    features_sframe = graphlab.SFrame()\n",
    "    for feature in features:\n",
    "        features_sframe[feature] = data_sframe[feature]\n",
    "\n",
    "    # this will convert the features_sframe into a numpy matrix with GraphLab Create >= 1.7!!\n",
    "    features_matrix = features_sframe.to_numpy()\n",
    "    # assign the column of data_sframe associated with the target to the variable ‘output_sarray’\n",
    "    output_sarray = data_sframe[output]\n",
    "\n",
    "    # this will convert the SArray into a numpy array:\n",
    "    output_array = output_sarray.to_numpy() # GraphLab Create>= 1.7!!\n",
    "    return(features_matrix, output_array)"
   ]
  },
  {
   "cell_type": "code",
   "execution_count": 3,
   "metadata": {},
   "outputs": [],
   "source": [
    "def normalize_features(feature_matrix):\n",
    "    norms = np.linalg.norm(feature_matrix, axis=0)\n",
    "    X = feature_matrix / norms\n",
    "    return  (X,norms)"
   ]
  },
  {
   "cell_type": "code",
   "execution_count": 4,
   "metadata": {},
   "outputs": [],
   "source": [
    "(train_and_validation, test) = sales.random_split(.8, seed=1)\n",
    "(train, validation) = train_and_validation.random_split(.8, seed=1)"
   ]
  },
  {
   "cell_type": "code",
   "execution_count": 5,
   "metadata": {},
   "outputs": [],
   "source": [
    "feature_list = ['bedrooms',  \n",
    "                'bathrooms',  \n",
    "                'sqft_living',  \n",
    "                'sqft_lot',  \n",
    "                'floors',\n",
    "                'waterfront',  \n",
    "                'view',  \n",
    "                'condition',  \n",
    "                'grade',  \n",
    "                'sqft_above',  \n",
    "                'sqft_basement',\n",
    "                'yr_built',  \n",
    "                'yr_renovated',  \n",
    "                'lat',  \n",
    "                'long',  \n",
    "                'sqft_living15',  \n",
    "                'sqft_lot15']\n",
    "features_train, output_train = get_numpy_data(train, feature_list, 'price')\n",
    "features_test, output_test = get_numpy_data(test, feature_list, 'price')\n",
    "features_valid, output_valid = get_numpy_data(validation, feature_list, 'price')"
   ]
  },
  {
   "cell_type": "code",
   "execution_count": 6,
   "metadata": {},
   "outputs": [],
   "source": [
    "# In computing distances, it is crucial to normalize features. Otherwise, for example,\n",
    "# the sqft_living feature (typically on the order of thousands) would exert a much larger\n",
    "# influence on distance than the bedrooms feature (typically on the order of ones). We\n",
    "# divide each column of the training feature matrix by its 2-norm, so that the transformed\n",
    "# column has unit norm.\n",
    "\n",
    "# IMPORTANT: Make sure to store the norms of the features in the training set. The features\n",
    "# in the test and validation sets must be divided by these same norms, so that the training,\n",
    "# test, and validation sets are normalized consistently."
   ]
  },
  {
   "cell_type": "code",
   "execution_count": 7,
   "metadata": {},
   "outputs": [],
   "source": [
    "features_train, norms = normalize_features(features_train)\n",
    "features_test = features_test / norms\n",
    "features_valid = features_valid / norms"
   ]
  },
  {
   "cell_type": "markdown",
   "metadata": {},
   "source": [
    "## Compute a single distance"
   ]
  },
  {
   "cell_type": "code",
   "execution_count": 8,
   "metadata": {},
   "outputs": [],
   "source": [
    "# To start, let's just explore computing the \"distance\" between two given houses. We will\n",
    "# take our query house to be the first house of the test set and look at the distance between\n",
    "# this house and the 10th house of the training set.\n",
    "\n",
    "# To see the features associated with the query house, print the first row (index 0) of the test\n",
    "# feature matrix. You should get an 18-dimensional vector whose components are between 0 and 1."
   ]
  },
  {
   "cell_type": "code",
   "execution_count": 11,
   "metadata": {},
   "outputs": [
    {
     "name": "stdout",
     "output_type": "stream",
     "text": [
      "[ 0.01345102  0.01551285  0.01807473  0.01759212  0.00160518  0.017059\n",
      "  0.          0.05102365  0.0116321   0.01564352  0.01362084  0.02481682\n",
      "  0.01350306  0.          0.01345386 -0.01346927  0.01375926  0.0016225 ]\n"
     ]
    }
   ],
   "source": [
    "print features_test[0]"
   ]
  },
  {
   "cell_type": "code",
   "execution_count": 12,
   "metadata": {},
   "outputs": [],
   "source": [
    "# Now print the 10th row (index 9) of the training feature matrix. Again, you get an 18-dimensional\n",
    "# vector with components between 0 and 1."
   ]
  },
  {
   "cell_type": "code",
   "execution_count": 13,
   "metadata": {},
   "outputs": [
    {
     "name": "stdout",
     "output_type": "stream",
     "text": [
      "[ 0.01345102  0.01163464  0.00602491  0.0083488   0.00050756  0.01279425\n",
      "  0.          0.          0.01938684  0.01390535  0.0096309   0.\n",
      "  0.01302544  0.          0.01346821 -0.01346254  0.01195898  0.00156612]\n"
     ]
    }
   ],
   "source": [
    "print features_train[9]"
   ]
  },
  {
   "cell_type": "markdown",
   "metadata": {},
   "source": [
    "### QUIZ QUESTION"
   ]
  },
  {
   "cell_type": "code",
   "execution_count": 14,
   "metadata": {},
   "outputs": [],
   "source": [
    "# What is the Euclidean distance between the query house and the 10th house of the training set?\n",
    "\n",
    "# Note: Do not use the np.linalg.norm function; use np.sqrt, np.sum, and the power operator (**)\n",
    "# instead. The latter approach is more easily adapted to computing multiple distances at once."
   ]
  },
  {
   "cell_type": "code",
   "execution_count": 21,
   "metadata": {},
   "outputs": [
    {
     "data": {
      "text/plain": [
       "0.05972359371666126"
      ]
     },
     "execution_count": 21,
     "metadata": {},
     "output_type": "execute_result"
    }
   ],
   "source": [
    "# distance(x_j, x_q) = sqrt[ (x_j[0]-x_q[0])^2 + ... +  (x_j[d]-x_q[d])^2 ]\n",
    "np.sqrt( np.sum( (features_train[9] - features_test[0])**2 ) )"
   ]
  },
  {
   "cell_type": "markdown",
   "metadata": {},
   "source": [
    "## Compute multiple distances"
   ]
  },
  {
   "cell_type": "code",
   "execution_count": 22,
   "metadata": {},
   "outputs": [],
   "source": [
    "# Of course, to do nearest neighbor regression, we need to compute the distance between our\n",
    "# query house and all houses in the training set.\n",
    "\n",
    "# To visualize this nearest-neighbor search, let's first compute the distance from our query\n",
    "# house (features_test[0]) to the first 10 houses of the training set (features_train[0:10]) \n",
    "# and then search for the nearest neighbor within this small set of houses. Through restricting\n",
    "# ourselves to a small set of houses to begin with, we can visually scan the list of 10 distances\n",
    "# to verify that our code for finding the nearest neighbor is working.\n",
    "\n",
    "# Write a loop to compute the Euclidean distance from the query house to each of the first 10 houses\n",
    "# in the training set."
   ]
  },
  {
   "cell_type": "code",
   "execution_count": 144,
   "metadata": {},
   "outputs": [
    {
     "name": "stdout",
     "output_type": "stream",
     "text": [
      "0: 0.060275\n",
      "1: 0.085469\n",
      "2: 0.061499\n",
      "3: 0.053403\n",
      "4: 0.058445\n",
      "5: 0.059879\n",
      "6: 0.054631\n",
      "7: 0.055431\n",
      "8: 0.052384\n",
      "9: 0.059724\n"
     ]
    }
   ],
   "source": [
    "for i in range(10):\n",
    "    # distance(x_j, x_q) = sqrt[ (x_j[0]-x_q[0])^2 + ... +  (x_j[d]-x_q[d])^2 ]\n",
    "    print \"%d: %f\" % (i , np.sqrt( np.sum( (features_train[i] - features_test[0])**2 ) ))"
   ]
  },
  {
   "cell_type": "markdown",
   "metadata": {},
   "source": [
    "### QUIZ QUESTION"
   ]
  },
  {
   "cell_type": "code",
   "execution_count": 25,
   "metadata": {},
   "outputs": [],
   "source": [
    "# Among the first 10 training houses, which house is the closest to the query house?\n",
    "# Answer: No. 8"
   ]
  },
  {
   "cell_type": "code",
   "execution_count": 27,
   "metadata": {},
   "outputs": [],
   "source": [
    "# It is computationally inefficient to loop over computing distances to all houses in our\n",
    "# training dataset. Fortunately, many of the Numpy functions can be vectorized, applying \n",
    "# the same operation over multiple values or vectors. We now walk through this process.\n",
    "\n",
    "# Consider the following loop that computes the element-wise difference between the features\n",
    "# of the query house (features_test[0]) and the first 3 training houses (features_train[0:3]):"
   ]
  },
  {
   "cell_type": "code",
   "execution_count": 28,
   "metadata": {},
   "outputs": [
    {
     "name": "stdout",
     "output_type": "stream",
     "text": [
      "[ 0.00000000e+00 -3.87821276e-03 -1.20498190e-02 -1.05552733e-02\n",
      "  2.08673616e-04 -8.52950206e-03  0.00000000e+00 -5.10236549e-02\n",
      "  0.00000000e+00 -3.47633726e-03 -5.50336860e-03 -2.48168183e-02\n",
      " -1.63756198e-04  0.00000000e+00 -1.70072004e-05  1.30577772e-05\n",
      " -5.14364795e-03  6.69281453e-04]\n",
      "[ 0.00000000e+00 -3.87821276e-03 -4.51868214e-03 -2.26610387e-03\n",
      "  7.19763456e-04  0.00000000e+00  0.00000000e+00 -5.10236549e-02\n",
      "  0.00000000e+00 -3.47633726e-03  1.30705004e-03 -1.45830788e-02\n",
      " -1.91048898e-04  6.65082271e-02  4.23240653e-05  6.22415897e-06\n",
      " -2.89330197e-03  1.47606982e-03]\n",
      "[ 0.00000000e+00 -7.75642553e-03 -1.20498190e-02 -1.30002801e-02\n",
      "  1.60518166e-03 -8.52950206e-03  0.00000000e+00 -5.10236549e-02\n",
      "  0.00000000e+00 -5.21450589e-03 -8.32384500e-03 -2.48168183e-02\n",
      " -3.13866046e-04  0.00000000e+00  4.71047219e-05  1.56530415e-05\n",
      "  3.72914476e-03  1.64764925e-03]\n"
     ]
    }
   ],
   "source": [
    "for i in xrange(3):\n",
    "    print features_train[i]-features_test[0]\n",
    "    # should print 3 vectors of length 18"
   ]
  },
  {
   "cell_type": "code",
   "execution_count": 29,
   "metadata": {},
   "outputs": [],
   "source": [
    "# The subtraction operator (-) in Numpy is vectorized as follows:"
   ]
  },
  {
   "cell_type": "code",
   "execution_count": 30,
   "metadata": {},
   "outputs": [
    {
     "name": "stdout",
     "output_type": "stream",
     "text": [
      "[[ 0.00000000e+00 -3.87821276e-03 -1.20498190e-02 -1.05552733e-02\n",
      "   2.08673616e-04 -8.52950206e-03  0.00000000e+00 -5.10236549e-02\n",
      "   0.00000000e+00 -3.47633726e-03 -5.50336860e-03 -2.48168183e-02\n",
      "  -1.63756198e-04  0.00000000e+00 -1.70072004e-05  1.30577772e-05\n",
      "  -5.14364795e-03  6.69281453e-04]\n",
      " [ 0.00000000e+00 -3.87821276e-03 -4.51868214e-03 -2.26610387e-03\n",
      "   7.19763456e-04  0.00000000e+00  0.00000000e+00 -5.10236549e-02\n",
      "   0.00000000e+00 -3.47633726e-03  1.30705004e-03 -1.45830788e-02\n",
      "  -1.91048898e-04  6.65082271e-02  4.23240653e-05  6.22415897e-06\n",
      "  -2.89330197e-03  1.47606982e-03]\n",
      " [ 0.00000000e+00 -7.75642553e-03 -1.20498190e-02 -1.30002801e-02\n",
      "   1.60518166e-03 -8.52950206e-03  0.00000000e+00 -5.10236549e-02\n",
      "   0.00000000e+00 -5.21450589e-03 -8.32384500e-03 -2.48168183e-02\n",
      "  -3.13866046e-04  0.00000000e+00  4.71047219e-05  1.56530415e-05\n",
      "   3.72914476e-03  1.64764925e-03]]\n"
     ]
    }
   ],
   "source": [
    "print features_train[0:3] - features_test[0]"
   ]
  },
  {
   "cell_type": "code",
   "execution_count": 31,
   "metadata": {},
   "outputs": [
    {
     "name": "stdout",
     "output_type": "stream",
     "text": [
      "[0. 0. 0. 0. 0. 0. 0. 0. 0. 0. 0. 0. 0. 0. 0. 0. 0. 0.]\n",
      "[0. 0. 0. 0. 0. 0. 0. 0. 0. 0. 0. 0. 0. 0. 0. 0. 0. 0.]\n",
      "[0. 0. 0. 0. 0. 0. 0. 0. 0. 0. 0. 0. 0. 0. 0. 0. 0. 0.]\n"
     ]
    }
   ],
   "source": [
    "# Note that the output of this vectorized operation is identical to that of the\n",
    "# loop above, which can be verified below:\n",
    "# verify that vectorization works\n",
    "results = features_train[0:3] - features_test[0]\n",
    "print results[0] - (features_train[0]-features_test[0])\n",
    "# should print all 0's if results[0] == (features_train[0]-features_test[0])\n",
    "print results[1] - (features_train[1]-features_test[0])\n",
    "# should print all 0's if results[1] == (features_train[1]-features_test[0])\n",
    "print results[2] - (features_train[2]-features_test[0])\n",
    "# should print all 0's if results[2] == (features_train[2]-features_test[0])"
   ]
  },
  {
   "cell_type": "markdown",
   "metadata": {},
   "source": [
    "## Perform 1-nearest neighbor regression"
   ]
  },
  {
   "cell_type": "code",
   "execution_count": 34,
   "metadata": {},
   "outputs": [],
   "source": [
    "# Now that we have the element-wise differences, it is not too hard to compute the Euclidean\n",
    "# distances between our query house and all of the training houses. First, write a single-line\n",
    "# expression to define a variable diff such that diff[i] gives the element-wise difference\n",
    "# between the features of the query house and the i-th training house."
   ]
  },
  {
   "cell_type": "code",
   "execution_count": 35,
   "metadata": {},
   "outputs": [],
   "source": [
    "diff = features_train - features_test[0]"
   ]
  },
  {
   "cell_type": "code",
   "execution_count": 36,
   "metadata": {},
   "outputs": [],
   "source": [
    "# To test the code above, run the following cell, which should output a value -0.0934339605842:"
   ]
  },
  {
   "cell_type": "code",
   "execution_count": 37,
   "metadata": {},
   "outputs": [
    {
     "name": "stdout",
     "output_type": "stream",
     "text": [
      "-0.0934339605841801\n"
     ]
    }
   ],
   "source": [
    "print diff[-1].sum() # sum of the feature differences between the query and last training house\n",
    "# should print -0.0934339605842"
   ]
  },
  {
   "cell_type": "code",
   "execution_count": 38,
   "metadata": {},
   "outputs": [],
   "source": [
    "# The next step in computing the Euclidean distances is to take these feature-by-feature differences\n",
    "# in diff, square each, and take the sum over feature indices. That is, compute the sum of square\n",
    "# feature differences for each training house (row in diff).\n",
    "\n",
    "# By default, np.sum sums up everything in the matrix and returns a single number. To instead sum\n",
    "# only over a row or column, we need to specifiy the axis parameter described in the np.sum\n",
    "# documentation. In particular, axis=1 computes the sum across each row.\n",
    "\n",
    "# Below, we compute this sum of square feature differences for all training houses and verify that\n",
    "# the output for the 16th house in the training set is equivalent to having examined only the 16th\n",
    "# row of diff and computing the sum of squares on that row alone."
   ]
  },
  {
   "cell_type": "code",
   "execution_count": 39,
   "metadata": {},
   "outputs": [
    {
     "name": "stdout",
     "output_type": "stream",
     "text": [
      "0.003307059028786791\n",
      "0.0033070590287867904\n"
     ]
    }
   ],
   "source": [
    "print np.sum(diff**2, axis=1)[15]\n",
    "print np.sum(diff[15]**2)"
   ]
  },
  {
   "cell_type": "code",
   "execution_count": 40,
   "metadata": {},
   "outputs": [],
   "source": [
    "# With this result in mind, write a single-line expression to compute the\n",
    "# Euclidean distances between the query house and all houses in the training set.\n",
    "# Assign the result to a variable distances.\n",
    "\n",
    "# Hint: Do not forget to take the square root of the sum of squares."
   ]
  },
  {
   "cell_type": "code",
   "execution_count": 42,
   "metadata": {},
   "outputs": [],
   "source": [
    "distances = np.sqrt(np.sum(diff**2, axis=1))"
   ]
  },
  {
   "cell_type": "code",
   "execution_count": 45,
   "metadata": {},
   "outputs": [],
   "source": [
    "# To test the code above, run the following cell, which should output a value 0.0237082324496:"
   ]
  },
  {
   "cell_type": "code",
   "execution_count": 46,
   "metadata": {},
   "outputs": [
    {
     "name": "stdout",
     "output_type": "stream",
     "text": [
      "0.023708232449603735\n"
     ]
    }
   ],
   "source": [
    "print distances[100] # Euclidean distance between the query house and the 101th training house\n",
    "# should print 0.0237082324496"
   ]
  },
  {
   "cell_type": "code",
   "execution_count": 47,
   "metadata": {},
   "outputs": [],
   "source": [
    "# Now you are ready to write a function that computes the distances from a query house\n",
    "# to all training houses. The function should take two parameters: (i) the matrix of\n",
    "# training features and (ii) the single feature vector associated with the query."
   ]
  },
  {
   "cell_type": "code",
   "execution_count": 48,
   "metadata": {},
   "outputs": [],
   "source": [
    "def distance_to_neighbors(dataset, query):\n",
    "    diff = dataset - query\n",
    "    return np.sqrt(np.sum(diff**2, axis=1))"
   ]
  },
  {
   "cell_type": "markdown",
   "metadata": {},
   "source": [
    "### QUIZ QUESTIONS"
   ]
  },
  {
   "cell_type": "code",
   "execution_count": 49,
   "metadata": {},
   "outputs": [],
   "source": [
    "# Take the query house to be third house of the test set (features_test[2]). What is\n",
    "# the index of the house in the training set that is closest to this query house?\n",
    "# What is the predicted value of the query house based on 1-nearest neighbor regression?"
   ]
  },
  {
   "cell_type": "code",
   "execution_count": 53,
   "metadata": {},
   "outputs": [
    {
     "name": "stdout",
     "output_type": "stream",
     "text": [
      "382\n",
      "249000\n"
     ]
    }
   ],
   "source": [
    "best_index = None\n",
    "best_distance = None\n",
    "distances = distance_to_neighbors(features_train, features_test[2])\n",
    "for i in xrange( len(distances) ):\n",
    "    distance = distances[i]\n",
    "    if best_distance is None or distance < best_distance:\n",
    "        best_distance = distance\n",
    "        best_index = i\n",
    "print best_index\n",
    "print output_train[best_index]"
   ]
  },
  {
   "cell_type": "markdown",
   "metadata": {},
   "source": [
    "## Perform k-nearest neighbor regression"
   ]
  },
  {
   "cell_type": "code",
   "execution_count": 54,
   "metadata": {},
   "outputs": [],
   "source": [
    "# For k-nearest neighbors, we need to find a set of k houses in the training set closest\n",
    "# to a given query house. We then make predictions based on these k nearest neighbors."
   ]
  },
  {
   "cell_type": "code",
   "execution_count": 60,
   "metadata": {},
   "outputs": [],
   "source": [
    "import heapq\n",
    "class PriorityQueue(object):\n",
    "    def __init__(self, key):\n",
    "        self._key = key\n",
    "        self._heap = []\n",
    "    def push(self, item):\n",
    "        heapq.heappush(self._heap, (self._key(item), item))\n",
    "    def top(self):\n",
    "        return heapq.heappop(self._heap)[1]\n",
    "    def empty(self):\n",
    "        return len( self._heap )==0"
   ]
  },
  {
   "cell_type": "markdown",
   "metadata": {},
   "source": [
    "## Fetch k-nearest neighbors"
   ]
  },
  {
   "cell_type": "code",
   "execution_count": 61,
   "metadata": {},
   "outputs": [],
   "source": [
    "# Using the functions above, implement a function that takes in\n",
    "\n",
    "# 1) the value of k;\n",
    "# 2) the feature matrix for the training houses; and\n",
    "# 3) the feature vector of the query house\n",
    "\n",
    "# and returns the indices of the k closest training houses. For instance,\n",
    "# with 2-nearest neighbor, a return value of [5, 10] would indicate that\n",
    "# the 6th and 11th training houses are closest to the query house."
   ]
  },
  {
   "cell_type": "code",
   "execution_count": 75,
   "metadata": {},
   "outputs": [],
   "source": [
    "def nearest_neighbors(k, dataset, query):\n",
    "    PQ = PriorityQueue(key=lambda x: x[1])\n",
    "    dist2neighbors = distance_to_neighbors(dataset, query)\n",
    "    for index,distance in enumerate(dist2neighbors):\n",
    "        PQ.push( (index,distance) )\n",
    "    result = []\n",
    "    while not PQ.empty() and k != 0:\n",
    "        index = PQ.top()[0]\n",
    "        result.append(index)\n",
    "        k -= 1\n",
    "    return result"
   ]
  },
  {
   "cell_type": "markdown",
   "metadata": {},
   "source": [
    "### QUIZ QUESTION"
   ]
  },
  {
   "cell_type": "code",
   "execution_count": 76,
   "metadata": {},
   "outputs": [],
   "source": [
    "# Take the query house to be third house of the test set (features_test[2]).\n",
    "# What are the indices of the 4 training houses closest to the query house?"
   ]
  },
  {
   "cell_type": "code",
   "execution_count": 77,
   "metadata": {},
   "outputs": [
    {
     "name": "stdout",
     "output_type": "stream",
     "text": [
      "[382, 1149, 4087, 3142]\n"
     ]
    }
   ],
   "source": [
    "print nearest_neighbors(4, features_train, features_test[2])"
   ]
  },
  {
   "cell_type": "markdown",
   "metadata": {},
   "source": [
    "## Make a single prediction by averaging k nearest neighbor outputs"
   ]
  },
  {
   "cell_type": "code",
   "execution_count": 74,
   "metadata": {},
   "outputs": [],
   "source": [
    "# Now that we know how to find the k-nearest neighbors, write a function that\n",
    "# predicts the value of a given query house. For simplicity, take the average\n",
    "# of the prices of the k nearest neighbors in the training set. The function\n",
    "# should have the following parameters:\n",
    "\n",
    "# 1) the value of k;\n",
    "# 2) the feature matrix for the training houses;\n",
    "# 3) the output values (prices) of the training houses; and\n",
    "# 4) the feature vector of the query house, whose price we are predicting.\n",
    "\n",
    "# The function should return a predicted value of the query house.\n",
    "\n",
    "# Hint: You can extract multiple items from a Numpy array using a list of indices.\n",
    "# For instance, output_train[[6, 10]] returns the prices of the 7th and 11th training\n",
    "# houses."
   ]
  },
  {
   "cell_type": "code",
   "execution_count": 92,
   "metadata": {},
   "outputs": [],
   "source": [
    "def predictkNN(k, dataset, output, query):\n",
    "    indices = nearest_neighbors(k=k, dataset=dataset, query=query)\n",
    "    return np.sum(output[indices]) / len(indices)"
   ]
  },
  {
   "cell_type": "markdown",
   "metadata": {},
   "source": [
    "### QUIZ QUESTION"
   ]
  },
  {
   "cell_type": "code",
   "execution_count": 93,
   "metadata": {},
   "outputs": [],
   "source": [
    "# Again taking the query house to be third house of the test set (features_test[2]),\n",
    "# predict the value of the query house using k-nearest neighbors with k=4 and the\n",
    "# simple averaging method described and implemented above."
   ]
  },
  {
   "cell_type": "code",
   "execution_count": 94,
   "metadata": {},
   "outputs": [
    {
     "name": "stdout",
     "output_type": "stream",
     "text": [
      "413987\n"
     ]
    }
   ],
   "source": [
    "print predictkNN(4, features_train, output_train, features_test[2])"
   ]
  },
  {
   "cell_type": "code",
   "execution_count": 95,
   "metadata": {},
   "outputs": [],
   "source": [
    "# Compare this predicted value using 4-nearest neighbors to the predicted value using\n",
    "# 1-nearest neighbor computed earlier."
   ]
  },
  {
   "cell_type": "code",
   "execution_count": 96,
   "metadata": {},
   "outputs": [
    {
     "name": "stdout",
     "output_type": "stream",
     "text": [
      "249000\n"
     ]
    }
   ],
   "source": [
    "print predictkNN(1, features_train, output_train, features_test[2])"
   ]
  },
  {
   "cell_type": "markdown",
   "metadata": {},
   "source": [
    "## Make multiple predictions"
   ]
  },
  {
   "cell_type": "code",
   "execution_count": 98,
   "metadata": {},
   "outputs": [],
   "source": [
    "# Write a function to predict the value of each and every house in a query set. (The query set\n",
    "# can be any subset of the dataset, be it the test set or validation set.) The idea is to have\n",
    "# a loop where we take each house in the query set as the query house and make a prediction for\n",
    "# that specific house. The new function should take the following parameters:\n",
    "\n",
    "# 1) the value of k;\n",
    "# 2) the feature matrix for the training houses;\n",
    "# 3) the output values (prices) of the training houses; and\n",
    "# 4) the feature matrix for the query set.\n",
    "\n",
    "# The function should return a set of predicted values, one for each house in the query set."
   ]
  },
  {
   "cell_type": "code",
   "execution_count": 125,
   "metadata": {},
   "outputs": [],
   "source": [
    "def multiple_predictkNN(k, dataset, output, queryset):\n",
    "    result = []\n",
    "    for _,query in enumerate(queryset):\n",
    "        result.append( predictkNN(k, dataset, output, query) )\n",
    "    return result\n",
    "    "
   ]
  },
  {
   "cell_type": "markdown",
   "metadata": {},
   "source": [
    "### QUIZ QUESTION"
   ]
  },
  {
   "cell_type": "code",
   "execution_count": 126,
   "metadata": {},
   "outputs": [],
   "source": [
    "# Make predictions for the first 10 houses in the test set using k-nearest neighbors with k=10.\n",
    "\n",
    "# 1) What is the index of the house in this query set that has the lowest predicted value?\n",
    "# 2) What is the predicted value of this house?"
   ]
  },
  {
   "cell_type": "code",
   "execution_count": 130,
   "metadata": {},
   "outputs": [
    {
     "data": {
      "text/plain": [
       "[881300,\n",
       " 431860,\n",
       " 460595,\n",
       " 430200,\n",
       " 766750,\n",
       " 667420,\n",
       " 350032,\n",
       " 512800,\n",
       " 484000,\n",
       " 457235]"
      ]
     },
     "execution_count": 130,
     "metadata": {},
     "output_type": "execute_result"
    }
   ],
   "source": [
    "multiple_predictkNN(10, features_train, output_train, features_test[0:10])"
   ]
  },
  {
   "cell_type": "code",
   "execution_count": 128,
   "metadata": {},
   "outputs": [],
   "source": [
    "# Answer: Index=6, predicted value = 350032"
   ]
  },
  {
   "cell_type": "markdown",
   "metadata": {},
   "source": [
    "## Choosing the best value of k using a validation set"
   ]
  },
  {
   "cell_type": "code",
   "execution_count": 129,
   "metadata": {},
   "outputs": [],
   "source": [
    "# There remains a question of choosing the value of k to use in making predictions.\n",
    "# Here, we use a validation set to choose this value. Write a loop that does the following:\n",
    "\n",
    "# For k in [1, 2, ..., 15]:\n",
    "#   Makes predictions for each house in the VALIDATION set using the k-nearest neighbors from the TRAINING set.\n",
    "#   Computes the RSS for these predictions on the VALIDATION set\n",
    "#   Stores the RSS computed above in rss_all\n",
    "#   Report which k produced the lowest RSS on VALIDATION set.\n",
    "\n",
    "# (Depending on your computing environment, this computation may take 10-15 minutes.)"
   ]
  },
  {
   "cell_type": "code",
   "execution_count": 136,
   "metadata": {},
   "outputs": [
    {
     "name": "stdout",
     "output_type": "stream",
     "text": [
      "k = 1\n",
      "RSS: 1.054512e+14\n",
      "k = 2\n",
      "RSS: 8.344507e+13\n",
      "k = 3\n",
      "RSS: 7.269211e+13\n",
      "k = 4\n",
      "RSS: 7.193481e+13\n",
      "k = 5\n",
      "RSS: 6.984652e+13\n",
      "k = 6\n",
      "RSS: 6.890312e+13\n",
      "k = 7\n",
      "RSS: 6.833833e+13\n",
      "k = 8\n",
      "RSS: 6.736170e+13\n",
      "k = 9\n",
      "RSS: 6.837275e+13\n",
      "k = 10\n",
      "RSS: 6.933357e+13\n",
      "k = 11\n",
      "RSS: 6.952388e+13\n",
      "k = 12\n",
      "RSS: 6.905197e+13\n",
      "k = 13\n",
      "RSS: 7.001127e+13\n",
      "k = 14\n",
      "RSS: 7.091156e+13\n",
      "k = 15\n",
      "RSS: 7.110883e+13\n",
      "best_k = 8, best_rss = 6.736170e+13\n"
     ]
    }
   ],
   "source": [
    "RSS = lambda output, predictions : sum((output - predictions)**2)\n",
    "rss_all = []\n",
    "best_rss = None\n",
    "best_k = None\n",
    "for k in [1,2,3,4,5,6,7,8,9,10,11,12,13,14,15]:\n",
    "    print \"k = %d\" % k\n",
    "    \n",
    "    pred = multiple_predictkNN(k, features_train, output_train, features_valid)\n",
    "    \n",
    "    rss_all.append( RSS(output_valid, pred) )\n",
    "    \n",
    "    print \"RSS: %e\" % rss_all[-1]\n",
    "    \n",
    "    if best_rss is None or rss_all[-1] < best_rss:\n",
    "        best_rss = rss_all[-1]\n",
    "        best_k = k\n",
    "\n",
    "print \"best_k = %d, best_rss = %e\" % (best_k, best_rss)"
   ]
  },
  {
   "cell_type": "code",
   "execution_count": 137,
   "metadata": {},
   "outputs": [
    {
     "data": {
      "text/plain": [
       "[<matplotlib.lines.Line2D at 0x7f2199615710>]"
      ]
     },
     "execution_count": 137,
     "metadata": {},
     "output_type": "execute_result"
    },
    {
     "data": {
      "image/png": "[encoded data removed]",
      "text/plain": [
       "<Figure size 432x288 with 1 Axes>"
      ]
     },
     "metadata": {
      "needs_background": "light"
     },
     "output_type": "display_data"
    }
   ],
   "source": [
    "import matplotlib.pyplot as plt\n",
    "%matplotlib inline\n",
    "\n",
    "kvals = range(1, 16)\n",
    "plt.plot(kvals, rss_all,'bo-')"
   ]
  },
  {
   "cell_type": "markdown",
   "metadata": {},
   "source": [
    "### QUIZ QUESTION"
   ]
  },
  {
   "cell_type": "code",
   "execution_count": 139,
   "metadata": {},
   "outputs": [],
   "source": [
    "# What is the RSS on the TEST data using the value of k found above?\n",
    "# To be clear, sum over all houses in the TEST set."
   ]
  },
  {
   "cell_type": "code",
   "execution_count": 143,
   "metadata": {},
   "outputs": [
    {
     "name": "stdout",
     "output_type": "stream",
     "text": [
      "1.330917e+14\n"
     ]
    }
   ],
   "source": [
    "pred = multiple_predictkNN(8, features_train, output_train, features_test)\n",
    "    \n",
    "print \"%e\" % RSS(output_test, pred)"
   ]
  },
  {
   "cell_type": "code",
   "execution_count": null,
   "metadata": {},
   "outputs": [],
   "source": []
  }
 ],
 "metadata": {
  "kernelspec": {
   "display_name": "Python 2",
   "language": "python",
   "name": "python2"
  },
  "language_info": {
   "codemirror_mode": {
    "name": "ipython",
    "version": 2
   },
   "file_extension": ".py",
   "mimetype": "text/x-python",
   "name": "python",
   "nbconvert_exporter": "python",
   "pygments_lexer": "ipython2",
   "version": "2.7.15+"
  }
 },
 "nbformat": 4,
 "nbformat_minor": 2
}
