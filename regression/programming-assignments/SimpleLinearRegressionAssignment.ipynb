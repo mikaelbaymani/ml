{
 "cells": [
  {
   "cell_type": "code",
   "execution_count": 2,
   "metadata": {},
   "outputs": [],
   "source": [
    "# Regression Week 1: Simple Linear Regression Assignment\n",
    "# Predicting House Prices (One feature)\n",
    "import graphlab"
   ]
  },
  {
   "cell_type": "code",
   "execution_count": 3,
   "metadata": {},
   "outputs": [],
   "source": [
    "# In this notebook we will use data on house sales in King County,\n",
    "# where Seattle is located, to predict house prices using simple\n",
    "# (one feature) linear regression."
   ]
  },
  {
   "cell_type": "code",
   "execution_count": 30,
   "metadata": {},
   "outputs": [
    {
     "data": {
      "application/javascript": [
       "$(\"head\").append($(\"<link/>\").attr({\n",
       "  rel:  \"stylesheet\",\n",
       "  type: \"text/css\",\n",
       "  href: \"//cdnjs.cloudflare.com/ajax/libs/font-awesome/4.1.0/css/font-awesome.min.css\"\n",
       "}));\n",
       "$(\"head\").append($(\"<link/>\").attr({\n",
       "  rel:  \"stylesheet\",\n",
       "  type: \"text/css\",\n",
       "  href: \"https://static.turi.com/products/graphlab-create/2.1/canvas/css/canvas.css\"\n",
       "}));\n",
       "\n",
       "            (function(){\n",
       "\n",
       "                var e = null;\n",
       "                if (typeof element == 'undefined') {\n",
       "                    var scripts = document.getElementsByTagName('script');\n",
       "                    var thisScriptTag = scripts[scripts.length-1];\n",
       "                    var parentDiv = thisScriptTag.parentNode;\n",
       "                    e = document.createElement('div');\n",
       "                    parentDiv.appendChild(e);\n",
       "                } else {\n",
       "                    e = element[0];\n",
       "                }\n",
       "\n",
       "                if (typeof requirejs !== 'undefined') {\n",
       "                    // disable load timeout; ipython_app.js is large and can take a while to load.\n",
       "                    requirejs.config({waitSeconds: 0});\n",
       "                }\n",
       "\n",
       "                require(['https://static.turi.com/products/graphlab-create/2.1/canvas/js/ipython_app.js'], function(IPythonApp){\n",
       "                    var app = new IPythonApp();\n",
       "                    app.attachView('sframe','Plots', {\"selected_variable\": {\"name\": [\"sales\"], \"descriptives\": {\"rows\": 21613, \"columns\": 21}, \"view_component\": \"Plots\", \"view_file\": \"sframe\", \"view_params\": {\"y\": \"price\", \"x\": \"sqft_living\", \"columns\": [\"id\", \"date\", \"price\", \"bedrooms\", \"bathrooms\", \"sqft_living\", \"sqft_lot\", \"floors\", \"waterfront\", \"view\", \"condition\", \"grade\", \"sqft_above\", \"sqft_basement\", \"yr_built\", \"yr_renovated\", \"zipcode\", \"lat\", \"long\", \"sqft_living15\", \"sqft_lot15\"], \"view\": \"Scatter Plot\"}, \"view_components\": [\"Summary\", \"Table\", \"Bar Chart\", \"BoxWhisker Plot\", \"Line Chart\", \"Scatter Plot\", \"Heat Map\", \"Plots\"], \"type\": \"SFrame\", \"columns\": [{\"dtype\": \"str\", \"name\": \"id\"}, {\"dtype\": \"datetime\", \"name\": \"date\"}, {\"dtype\": \"float\", \"name\": \"price\"}, {\"dtype\": \"float\", \"name\": \"bedrooms\"}, {\"dtype\": \"float\", \"name\": \"bathrooms\"}, {\"dtype\": \"float\", \"name\": \"sqft_living\"}, {\"dtype\": \"int\", \"name\": \"sqft_lot\"}, {\"dtype\": \"str\", \"name\": \"floors\"}, {\"dtype\": \"int\", \"name\": \"waterfront\"}, {\"dtype\": \"int\", \"name\": \"view\"}, {\"dtype\": \"int\", \"name\": \"condition\"}, {\"dtype\": \"int\", \"name\": \"grade\"}, {\"dtype\": \"int\", \"name\": \"sqft_above\"}, {\"dtype\": \"int\", \"name\": \"sqft_basement\"}, {\"dtype\": \"int\", \"name\": \"yr_built\"}, {\"dtype\": \"int\", \"name\": \"yr_renovated\"}, {\"dtype\": \"str\", \"name\": \"zipcode\"}, {\"dtype\": \"float\", \"name\": \"lat\"}, {\"dtype\": \"float\", \"name\": \"long\"}, {\"dtype\": \"float\", \"name\": \"sqft_living15\"}, {\"dtype\": \"float\", \"name\": \"sqft_lot15\"}], \"column_identifiers\": [\"bathrooms\", \"sqft_living15\", \"sqft_above\", \"grade\", \"yr_built\", \"price\", \"bedrooms\", \"zipcode\", \"long\", \"id\", \"sqft_lot15\", \"sqft_living\", \"floors\", \"sqft_lot\", \"date\", \"waterfront\", \"sqft_basement\", \"yr_renovated\", \"lat\", \"condition\", \"view\"]}, \"complete\": 1, \"ipython\": true, \"progress\": 1.0, \"data\": [[1260.0, 245000.0], [3080.0, 440000.0], [1460.0, 580000.0], [1780.0, 245000.0], [1910.0, 458400.0], [1520.0, 207000.0], [1970.0, 289000.0], [1270.0, 655000.0], [2260.0, 635000.0], [2420.0, 400000.0], [910.0, 415000.0], [1850.0, 405000.0], [1200.0, 146300.0], [3870.0, 1399950.0], [1510.0, 313950.0], [1580.0, 291000.0], [6640.0, 1820000.0], [1340.0, 520000.0], [1230.0, 275000.0], [1970.0, 262000.0], [2970.0, 526000.0], [1320.0, 575000.0], [2800.0, 529000.0], [1070.0, 252700.0], [840.0, 457500.0], [1660.0, 315000.0], [2490.0, 532500.0], [2070.0, 718000.0], [3870.0, 600000.0], [2230.0, 440000.0], [2370.0, 655000.0], [1550.0, 453000.0], [670.0, 118000.0], [1980.0, 606000.0], [1190.0, 375000.0], [1750.0, 758800.0], [1770.0, 327500.0], [1120.0, 205000.0], [1350.0, 429000.0], [1300.0, 245100.0], [3500.0, 1075000.0], [4168.0, 442000.0], [2030.0, 395000.0], [3080.0, 475000.0], [1540.0, 570000.0], [1060.0, 295000.0], [2517.0, 353900.0], [3890.0, 1102030.0], [3050.0, 563950.0], [3030.0, 682000.0], [1200.0, 228950.0], [1860.0, 275000.0], [1430.0, 439000.0], [3510.0, 1010000.0], [2730.0, 920000.0], [880.0, 196000.0], [1210.0, 335000.0], [2430.0, 330000.0], [3870.0, 900000.0], [6370.0, 1800000.0], [1510.0, 185000.0], [1510.0, 441500.0], [590.0, 202000.0], [1910.0, 390000.0], [1480.0, 410000.0], [2860.0, 750000.0], [1690.0, 305000.0], [1120.0, 320000.0], [4170.0, 810000.0], [1610.0, 575000.0], [1930.0, 339500.0], [1990.0, 234550.0], [2910.0, 1168000.0], [4220.0, 1635000.0], [2680.0, 445000.0], [2880.0, 720000.0], [1760.0, 380000.0], [1040.0, 480000.0], [1252.0, 352000.0], [3290.0, 739900.0], [1950.0, 540000.0], [1340.0, 315000.0], [2080.0, 329800.0], [2150.0, 285000.0], [1678.0, 353000.0], [2220.0, 569000.0], [3520.0, 859990.0], [2640.0, 790000.0], [1660.0, 458000.0], [2630.0, 750000.0], [1890.0, 275000.0], [2080.0, 254000.0], [2860.0, 645000.0], [1100.0, 400000.0], [1000.0, 380000.0], [2470.0, 660000.0], [1520.0, 450000.0], [2130.0, 620000.0], [2500.0, 565000.0], [2680.0, 779950.0], [1620.0, 280500.0], [2020.0, 465000.0], [1820.0, 247000.0], [2240.0, 649000.0], [1914.0, 305000.0], [1352.0, 325000.0], [1080.0, 345000.0], [3780.0, 962800.0], [1810.0, 503500.0], [4250.0, 2196000.0], [2025.0, 260000.0], [1070.0, 217500.0], [550.0, 290000.0], [1520.0, 292600.0], [3650.0, 1195000.0], [2140.0, 640000.0], [1130.0, 205000.0], [2250.0, 497000.0], [3340.0, 1328000.0], [2820.0, 585000.0], [2280.0, 420000.0], [1150.0, 500000.0], [2620.0, 968060.0], [4320.0, 565000.0], [4080.0, 2288000.0], [1240.0, 425000.0], [2660.0, 1240000.0], [2270.0, 446000.0], [1580.0, 333000.0], [2320.0, 423000.0], [3830.0, 599999.0], [2170.0, 1150000.0], [2240.0, 435000.0], [1460.0, 135000.0], [930.0, 230950.0], [1080.0, 425000.0], [3990.0, 1200000.0], [1310.0, 505000.0], [1910.0, 200000.0], [2150.0, 741500.0], [1470.0, 230000.0], [1270.0, 465000.0], [1610.0, 205000.0], [3560.0, 435000.0], [1930.0, 536751.0], [2014.0, 321000.0], [1970.0, 406500.0], [1510.0, 415000.0], [3020.0, 910000.0], [1100.0, 374000.0], [860.0, 397000.0], [1540.0, 742000.0], [2620.0, 557500.0], [2830.0, 738000.0], [1190.0, 900000.0], [1606.0, 417250.0], [1220.0, 161500.0], [3410.0, 1405000.0], [1350.0, 240000.0], [2610.0, 925000.0], [1430.0, 575000.0], [1280.0, 520000.0], [1990.0, 283500.0], [1370.0, 469000.0], [1760.0, 625000.0], [2450.0, 359950.0], [1110.0, 379500.0], [2330.0, 335000.0], [1160.0, 230000.0], [1420.0, 670000.0], [860.0, 200000.0], [2500.0, 425000.0], [2040.0, 253000.0], [2340.0, 235500.0], [1330.0, 280000.0], [4300.0, 1400000.0], [2620.0, 355000.0], [2130.0, 260000.0], [4590.0, 1720000.0], [1850.0, 181100.0], [950.0, 286000.0], [3290.0, 728000.0], [3460.0, 855000.0], [820.0, 274000.0], [4190.0, 910000.0], [710.0, 216000.0], [1440.0, 252000.0], [1490.0, 245000.0], [2490.0, 475000.0], [2650.0, 329000.0], [1650.0, 305000.0], [2640.0, 910000.0], [2100.0, 521900.0], [870.0, 357000.0], [1530.0, 269000.0], [2310.0, 515000.0], [1450.0, 277000.0], [1330.0, 310000.0], [2750.0, 525000.0], [2920.0, 515500.0], [2070.0, 310000.0], [3690.0, 1580000.0], [1610.0, 262500.0], [700.0, 310000.0], [2850.0, 1185000.0], [2480.0, 840000.0], [2390.0, 1185000.0], [3960.0, 860000.0], [1160.0, 422000.0], [2270.0, 380000.0], [1710.0, 237000.0], [2370.0, 310000.0], [1200.0, 239000.0], [1470.0, 381000.0], [1460.0, 316500.0], [1410.0, 279900.0], [2250.0, 445000.0], [1570.0, 439995.0], [1490.0, 259900.0], [1770.0, 690000.0], [1670.0, 580000.0], [5100.0, 936000.0], [2630.0, 695000.0], [1400.0, 374500.0], [2830.0, 515500.0], [2980.0, 1400000.0], [1700.0, 895000.0], [1200.0, 380000.0], [4040.0, 2271150.0], [3040.0, 790000.0], [2420.0, 411500.0], [1740.0, 350000.0], [2940.0, 315000.0], [2190.0, 588000.0], [1860.0, 510000.0], [2740.0, 476000.0], [980.0, 390000.0], [880.0, 415000.0], [3620.0, 1575000.0], [1950.0, 360000.0], [1600.0, 305450.0], [4300.0, 975000.0], [2340.0, 572000.0], [2350.0, 495000.0], [2940.0, 752000.0], [1780.0, 311000.0], [3140.0, 585000.0], [1480.0, 641000.0], [3240.0, 370000.0], [1020.0, 293000.0], [1230.0, 575000.0], [1580.0, 402000.0], [2100.0, 465000.0], [800.0, 250000.0], [1010.0, 200000.0], [990.0, 179000.0], [2040.0, 440000.0], [2390.0, 420000.0], [1740.0, 470000.0], [3420.0, 1438888.0], [1200.0, 508000.0], [1590.0, 580000.0], [4150.0, 3065000.0], [1570.0, 208400.0], [1651.0, 363000.0], [1300.0, 515000.0], [2280.0, 475000.0], [1840.0, 403000.0], [1660.0, 209950.0], [1300.0, 685000.0], [1410.0, 269000.0], [2070.0, 289950.0], [1090.0, 149900.0], [1084.0, 265000.0], [3440.0, 855000.0], [1730.0, 466750.0], [2100.0, 567000.0], [3210.0, 756450.0], [2210.0, 820000.0], [1190.0, 550700.0], [1040.0, 230000.0], [1260.0, 452000.0], [830.0, 325000.0], [1360.0, 479950.0], [1750.0, 335000.0], [3080.0, 539500.0], [1700.0, 500000.0], [1440.0, 275000.0], [3160.0, 1250000.0], [1970.0, 425000.0], [2600.0, 600000.0], [6260.0, 1180000.0], [1460.0, 775000.0], [2160.0, 601000.0], [4050.0, 1600000.0], [1350.0, 400000.0], [3410.0, 2400000.0], [1830.0, 255000.0], [1710.0, 715000.0], [920.0, 255000.0], [1690.0, 302500.0], [2030.0, 597500.0], [3630.0, 962800.0], [1900.0, 270000.0], [1776.0, 620000.0], [2080.0, 800000.0], [1800.0, 550000.0], [1540.0, 439950.0], [1010.0, 550700.0], [1250.0, 480000.0], [2040.0, 525000.0], [2220.0, 615000.0], [2030.0, 365500.0], [1130.0, 179950.0], [900.0, 225000.0], [3910.0, 709950.0], [7220.0, 1940000.0], [1930.0, 390000.0], [2670.0, 690000.0], [800.0, 268750.0], [1150.0, 340000.0], [1320.0, 285000.0], [2760.0, 600000.0], [1530.0, 620000.0], [2160.0, 385000.0], [2920.0, 820000.0], [2410.0, 365000.0], [1090.0, 249000.0], [2850.0, 750000.0], [2550.0, 1020000.0], [3860.0, 670000.0], [1190.0, 440000.0], [2770.0, 641000.0], [2166.0, 326000.0], [830.0, 519000.0], [1830.0, 346950.0], [1860.0, 443000.0], [1120.0, 445000.0], [1770.0, 440000.0], [1970.0, 678700.0], [2280.0, 557000.0], [1730.0, 670000.0], [1370.0, 300000.0], [1790.0, 460000.0], [2570.0, 1100000.0], [2200.0, 1230000.0], [1000.0, 239900.0], [3280.0, 634800.0], [1390.0, 206600.0], [2500.0, 387000.0], [1120.0, 549995.0], [1360.0, 507000.0], [440.0, 290000.0], [2800.0, 490000.0], [1290.0, 500000.0], [2200.0, 375000.0], [2100.0, 429000.0], [1010.0, 310000.0], [800.0, 388000.0], [1880.0, 1000000.0], [1090.0, 306000.0], [1300.0, 448500.0], [2150.0, 320000.0], [1470.0, 432000.0], [2740.0, 657000.0], [2400.0, 355000.0], [1320.0, 262000.0], [1260.0, 352000.0], [1150.0, 441000.0], [1250.0, 350000.0], [1290.0, 321000.0], [2100.0, 595000.0], [3150.0, 1256500.0], [730.0, 174950.0], [3010.0, 419000.0], [1380.0, 235500.0], [2400.0, 595000.0], [1600.0, 460000.0], [2300.0, 635000.0], [2220.0, 875000.0], [1160.0, 350000.0], [1360.0, 230000.0], [2000.0, 415000.0], [1600.0, 492500.0], [700.0, 247500.0], [1740.0, 269900.0], [2640.0, 650000.0], [760.0, 289950.0], [1990.0, 500000.0], [1890.0, 1065000.0], [2710.0, 482000.0], [1440.0, 562100.0], [2450.0, 559950.0], [3300.0, 927000.0], [980.0, 133000.0], [1680.0, 500000.0], [2790.0, 485000.0], [760.0, 110000.0], [2340.0, 429000.0], [828.0, 110000.0], [2570.0, 390000.0], [1490.0, 490000.0], [2710.0, 999000.0], [1720.0, 230000.0], [2160.0, 435000.0], [1794.0, 254950.0], [1890.0, 671000.0], [2090.0, 545000.0], [1150.0, 309212.0], [2500.0, 990000.0], [1630.0, 445000.0], [4700.0, 2650000.0], [2040.0, 615000.0], [850.0, 389000.0], [3370.0, 890000.0], [1790.0, 359950.0], [2640.0, 383000.0], [2850.0, 1600000.0], [1180.0, 169950.0], [1790.0, 325000.0], [1670.0, 451000.0], [1420.0, 340000.0], [1700.0, 225000.0], [1750.0, 542500.0], [1530.0, 458950.0], [1140.0, 474000.0], [2240.0, 287500.0], [2200.0, 512500.0], [1560.0, 385000.0], [1380.0, 322000.0], [1680.0, 315000.0], [3160.0, 1078000.0], [2420.0, 349900.0], [1490.0, 550000.0], [1820.0, 605000.0], [1970.0, 535000.0], [2410.0, 600000.0], [630.0, 396000.0], [2390.0, 790000.0], [710.0, 257500.0], [1720.0, 439950.0], [870.0, 150000.0], [840.0, 290000.0], [1480.0, 479000.0], [2390.0, 420000.0], [1980.0, 570000.0], [3190.0, 864000.0], [2030.0, 765000.0], [2960.0, 735000.0], [1900.0, 504975.0], [2020.0, 575000.0], [1800.0, 364000.0], [2370.0, 770000.0], [1710.0, 462000.0], [1870.0, 811000.0], [2600.0, 855000.0], [1460.0, 455500.0], [1310.0, 307000.0], [1630.0, 375000.0], [3480.0, 895000.0], [2550.0, 512000.0], [2340.0, 570000.0], [3610.0, 968000.0], [2180.0, 677000.0], [1940.0, 520000.0], [1350.0, 455000.0], [960.0, 160000.0], [1180.0, 507000.0], [1670.0, 245000.0], [3780.0, 1029000.0], [1850.0, 245000.0], [2810.0, 571500.0], [1820.0, 469000.0], [2350.0, 650000.0], [1560.0, 303000.0], [2170.0, 907000.0], [1450.0, 482500.0], [2650.0, 590000.0], [1480.0, 439000.0], [2370.0, 328000.0], [1730.0, 480680.0], [1490.0, 411000.0], [1140.0, 695000.0], [2680.0, 1242500.0], [1320.0, 305000.0], [1800.0, 391000.0], [2400.0, 425000.0], [2430.0, 770000.0], [1380.0, 450000.0], [3400.0, 1280000.0], [2110.0, 285000.0], [1710.0, 549000.0], [1690.0, 419990.0], [1980.0, 233000.0], [2850.0, 1325000.0], [2230.0, 439000.0], [1530.0, 654000.0], [1210.0, 357562.0], [4110.0, 1031000.0], [1600.0, 525000.0], [3223.0, 479349.0], [2910.0, 410000.0], [1090.0, 158000.0], [2770.0, 1197354.0], [900.0, 210000.0], [1330.0, 240000.0], [940.0, 725000.0], [1680.0, 526000.0], [1810.0, 362000.0], [1700.0, 300000.0], [2660.0, 313100.0], [1470.0, 344950.0], [2590.0, 781000.0], [2240.0, 375000.0], [1910.0, 545000.0], [1960.0, 365000.0], [2810.0, 454450.0], [860.0, 316000.0], [2060.0, 213500.0], [4090.0, 1680000.0], [2600.0, 628000.0], [2880.0, 885000.0], [2570.0, 654000.0], [2440.0, 1005000.0], [2590.0, 920000.0], [4490.0, 1800000.0], [4720.0, 745000.0], [1080.0, 315000.0], [1680.0, 500000.0], [3140.0, 744000.0], [3080.0, 1140000.0], [4040.0, 1400000.0], [1770.0, 270000.0], [1610.0, 512500.0], [1360.0, 499950.0], [1770.0, 375000.0], [1350.0, 567500.0], [1740.0, 472000.0], [1560.0, 299950.0], [4090.0, 1150000.0], [5403.0, 2125000.0], [1680.0, 334000.0], [2280.0, 525000.0], [770.0, 252500.0], [2030.0, 246000.0], [2960.0, 1340000.0], [2380.0, 782000.0], [2650.0, 702000.0], [1610.0, 715000.0], [3210.0, 889000.0], [2180.0, 705000.0], [2400.0, 475000.0], [4420.0, 2700000.0], [2190.0, 625000.0], [3240.0, 724500.0], [1900.0, 675000.0], [3840.0, 970000.0], [1940.0, 565000.0], [2620.0, 675000.0], [2110.0, 324500.0], [2230.0, 460000.0], [1110.0, 600000.0], [2190.0, 702000.0], [1400.0, 343000.0], [1790.0, 546000.0], [3160.0, 942000.0], [4490.0, 890000.0], [1560.0, 430000.0], [1550.0, 300000.0], [1160.0, 405000.0], [1150.0, 260000.0], [1820.0, 525000.0], [3010.0, 785000.0], [1430.0, 720001.0], [1230.0, 210000.0], [3190.0, 687500.0], [1805.0, 266000.0], [2220.0, 850000.0], [960.0, 179950.0], [2250.0, 670000.0], [1240.0, 400000.0], [3170.0, 820000.0], [1490.0, 285000.0], [1180.0, 450000.0], [5550.0, 1500000.0], [1280.0, 319950.0], [2160.0, 640000.0], [1420.0, 250000.0], [2490.0, 1705000.0], [2390.0, 270000.0], [1760.0, 485000.0], [1530.0, 450000.0], [920.0, 265000.0], [1220.0, 215500.0], [3580.0, 700000.0], [1340.0, 425000.0], [1740.0, 350000.0], [1980.0, 450000.0], [2470.0, 525000.0], [1390.0, 342000.0], [2130.0, 509000.0], [2720.0, 740000.0], [3650.0, 550000.0], [2640.0, 395000.0], [2670.0, 370000.0], [1140.0, 517000.0], [2280.0, 660000.0], [2400.0, 495000.0], [1570.0, 485000.0], [3100.0, 590000.0], [4140.0, 565000.0], [2840.0, 345000.0], [5450.0, 610000.0], [2080.0, 783000.0], [790.0, 268500.0], [1960.0, 599000.0], [4200.0, 1335000.0], [790.0, 435000.0], [1390.0, 278500.0], [870.0, 199950.0], [1260.0, 336000.0], [2830.0, 539000.0], [1400.0, 275000.0], [1200.0, 345000.0], [3920.0, 1165000.0], [2840.0, 490000.0], [1950.0, 262500.0], [1900.0, 1042500.0], [2790.0, 723000.0], [820.0, 478000.0], [1820.0, 318400.0], [3520.0, 589500.0], [1700.0, 331500.0], [1350.0, 259950.0], [2240.0, 469000.0], [1070.0, 415000.0], [880.0, 550000.0], [1710.0, 353750.0], [2580.0, 1099500.0], [1180.0, 355000.0], [1770.0, 370000.0], [3052.0, 425000.0], [3740.0, 595000.0], [920.0, 365000.0], [1590.0, 310000.0], [1870.0, 595888.0], [2260.0, 675000.0], [2730.0, 885000.0], [1880.0, 530200.0], [1210.0, 478000.0], [1000.0, 220000.0], [1300.0, 750000.0], [1380.0, 335000.0], [2590.0, 334000.0], [4410.0, 1240000.0], [2970.0, 665000.0], [2080.0, 660000.0], [1810.0, 517500.0], [2770.0, 748000.0], [3920.0, 1000000.0], [1140.0, 476000.0], [2050.0, 645000.0], [2920.0, 500000.0], [1350.0, 394950.0], [3700.0, 889950.0], [1000.0, 163800.0], [5280.0, 1550000.0], [2630.0, 655000.0], [3100.0, 700000.0], [2990.0, 779950.0], [1550.0, 460000.0], [1230.0, 239950.0], [4190.0, 1160000.0], [2940.0, 710000.0], [1790.0, 317000.0], [1200.0, 342000.0], [2500.0, 1185001.0], [3250.0, 1050000.0], [1330.0, 389000.0], [2740.0, 395000.0], [1440.0, 222000.0], [1670.0, 699000.0], [1530.0, 439000.0], [580.0, 109000.0], [890.0, 510000.0], [1550.0, 320000.0], [2590.0, 346300.0], [1720.0, 950000.0], [2170.0, 435000.0], [1340.0, 474905.0], [1160.0, 450000.0], [2100.0, 368000.0], [1820.0, 775000.0], [2610.0, 678940.0], [1010.0, 289000.0], [1280.0, 425000.0], [2380.0, 445000.0], [2480.0, 650000.0], [1760.0, 225000.0], [2260.0, 795000.0], [2420.0, 675000.0], [1710.0, 304000.0], [1480.0, 511200.0], [2510.0, 535000.0], [1500.0, 408000.0], [1677.0, 295000.0], [2080.0, 695000.0], [1660.0, 432000.0], [1160.0, 229950.0], [1320.0, 425000.0], [1200.0, 219950.0], [1370.0, 355000.0], [2670.0, 665000.0], [1130.0, 215000.0], [1990.0, 579000.0], [1250.0, 463000.0], [3880.0, 1815000.0], [1130.0, 293000.0], [2000.0, 595000.0], [1300.0, 380000.0], [4240.0, 442500.0], [3990.0, 650000.0], [2267.0, 306000.0], [2170.0, 389950.0], [2290.0, 991700.0], [1680.0, 620000.0], [1500.0, 614950.0], [2240.0, 337000.0], [2560.0, 1085000.0], [800.0, 353500.0], [2100.0, 370000.0], [1410.0, 301500.0], [1410.0, 563000.0], [2420.0, 598000.0], [2600.0, 430000.0], [1160.0, 312000.0], [1175.0, 342000.0], [1420.0, 329922.0], [1080.0, 485000.0], [2540.0, 380000.0], [5020.0, 3650000.0], [1840.0, 520000.0], [4410.0, 1320000.0], [1100.0, 516500.0], [1170.0, 302000.0], [1390.0, 234000.0], [1840.0, 340000.0], [1760.0, 500000.0], [1020.0, 290000.0], [860.0, 122000.0], [1770.0, 606150.0], [3330.0, 1205000.0], [1370.0, 447000.0], [2080.0, 549950.0], [1550.0, 570000.0], [2210.0, 330000.0], [1050.0, 332888.0], [1990.0, 185000.0], [1090.0, 197000.0], [1650.0, 260000.0], [1670.0, 612125.0], [990.0, 285000.0], [1780.0, 509000.0], [1690.0, 455800.0], [2110.0, 610000.0], [3730.0, 595000.0], [1370.0, 377500.0], [1660.0, 529941.0], [2520.0, 650000.0], [940.0, 223000.0], [2060.0, 457000.0], [1270.0, 313500.0], [1950.0, 449999.0], [1420.0, 467000.0], [2710.0, 410000.0], [3060.0, 775000.0], [1720.0, 608000.0], [3220.0, 359999.0], [2140.0, 564000.0], [1380.0, 285000.0], [1660.0, 716000.0], [680.0, 252000.0], [2410.0, 530000.0], [2780.0, 582000.0], [1420.0, 269900.0], [2692.0, 435000.0], [1560.0, 724000.0], [1490.0, 185000.0], [2547.0, 392440.0], [1310.0, 280000.0], [1730.0, 522000.0], [1600.0, 380000.0], [1060.0, 403504.0], [1010.0, 300000.0], [1000.0, 275000.0], [1120.0, 345000.0], [2560.0, 565000.0], [2050.0, 761000.0], [2380.0, 350000.0], [1330.0, 539950.0], [990.0, 409950.0], [1340.0, 354000.0], [1680.0, 425000.0], [1750.0, 716528.0], [960.0, 255000.0], [2290.0, 599950.0], [1750.0, 477000.0], [2450.0, 800000.0], [1030.0, 330000.0], [990.0, 208000.0], [4150.0, 969990.0], [1260.0, 282000.0], [1890.0, 587206.0], [1990.0, 378000.0], [1890.0, 330000.0], [2440.0, 725000.0], [2510.0, 825000.0], [2020.0, 308000.0], [1780.0, 631500.0], [1510.0, 199950.0], [1040.0, 210000.0], [3230.0, 572115.0], [1230.0, 139500.0], [1010.0, 145000.0], [1710.0, 480000.0], [2120.0, 437000.0], [2920.0, 1738000.0], [2440.0, 662700.0], [840.0, 528000.0], [4340.0, 1090000.0], [2070.0, 539000.0], [1760.0, 388000.0], [1070.0, 420000.0], [2050.0, 623000.0], [1380.0, 249900.0], [1530.0, 452000.0], [2240.0, 279900.0], [2630.0, 575000.0], [2050.0, 655275.0], [2960.0, 875000.0], [1940.0, 345000.0], [930.0, 445000.0], [1040.0, 324950.0], [1750.0, 524950.0], [2060.0, 648752.0], [1880.0, 261950.0], [1290.0, 205000.0], [4000.0, 628000.0], [1080.0, 390000.0], [710.0, 215000.0], [1390.0, 328500.0], [570.0, 89950.0], [2670.0, 430000.0], [1740.0, 430000.0], [1000.0, 265000.0], [2270.0, 507250.0], [2620.0, 277500.0], [3910.0, 1999000.0], [2460.0, 579950.0], [1610.0, 395000.0], [1680.0, 359000.0], [1620.0, 467100.0], [1260.0, 230000.0], [1230.0, 220000.0], [2230.0, 500000.0], [1330.0, 475000.0], [1270.0, 299000.0], [2080.0, 345000.0], [2500.0, 538500.0], [2600.0, 402500.0], [1300.0, 198000.0], [3410.0, 725000.0], [770.0, 180000.0], [2690.0, 597157.0], [1340.0, 425000.0], [2160.0, 430000.0], [2650.0, 797000.0], [950.0, 396000.0], [1950.0, 315000.0], [3090.0, 850000.0], [1980.0, 711000.0], [2260.0, 325000.0], [1480.0, 580000.0], [1040.0, 380000.0], [2050.0, 370228.0], [2540.0, 580000.0], [1010.0, 174500.0], [1140.0, 466000.0], [1490.0, 565000.0], [1940.0, 480000.0], [1610.0, 203000.0], [2360.0, 459000.0], [4430.0, 2450000.0], [1310.0, 526500.0], [2420.0, 376000.0], [2130.0, 325250.0], [1870.0, 350000.0], [1970.0, 402000.0], [1760.0, 527950.0], [3290.0, 595000.0], [1200.0, 504200.0], [1750.0, 330000.0], [3810.0, 839900.0], [2940.0, 780000.0], [1400.0, 246000.0], [760.0, 352000.0], [2120.0, 525000.0], [2580.0, 588000.0], [2310.0, 727160.0], [2450.0, 525000.0], [1640.0, 226500.0], [2520.0, 770000.0], [2180.0, 445000.0], [1320.0, 422000.0], [2040.0, 355000.0], [2700.0, 950000.0], [3190.0, 780000.0], [2610.0, 372000.0], [1010.0, 440000.0], [1310.0, 525000.0], [1350.0, 468500.0], [2542.0, 359950.0], [2010.0, 495500.0], [1320.0, 402000.0], [1910.0, 189950.0], [1070.0, 210000.0], [1920.0, 391500.0], [1240.0, 265000.0], [2650.0, 350000.0], [2070.0, 364950.0], [2300.0, 590000.0], [1020.0, 152275.0], [1220.0, 199000.0], [2530.0, 625000.0], [740.0, 213800.0], [920.0, 208000.0], [5050.0, 2320000.0], [1540.0, 640000.0], [2040.0, 350000.0], [2470.0, 732500.0], [1580.0, 221347.0], [2650.0, 665000.0], [1590.0, 250000.0], [1480.0, 509250.0], [980.0, 657500.0], [1100.0, 233000.0], [1730.0, 665000.0], [2490.0, 470000.0], [2475.0, 329900.0], [1770.0, 248000.0], [1580.0, 525000.0], [1330.0, 601000.0], [2410.0, 379000.0], [1900.0, 550000.0], [1720.0, 161700.0], [1315.0, 347000.0], [1840.0, 720000.0], [1490.0, 585888.0], [2810.0, 350000.0], [1160.0, 365000.0], [2370.0, 899000.0], [2010.0, 245000.0], [2810.0, 531155.0], [1410.0, 220000.0], [1570.0, 592350.0], [1260.0, 354000.0], [1720.0, 547500.0], [800.0, 330000.0], [700.0, 119900.0], [1400.0, 399950.0], [1450.0, 274000.0], [3790.0, 929950.0], [2750.0, 556000.0], [1500.0, 605000.0], [1060.0, 255000.0], [950.0, 190000.0], [2240.0, 831000.0], [1310.0, 311000.0], [1180.0, 447500.0], [1290.0, 402500.0], [2770.0, 572000.0], [1850.0, 218000.0], [2160.0, 220000.0], [2029.0, 384435.0], [2730.0, 510000.0], [2130.0, 780000.0], [1400.0, 710000.0], [2550.0, 699000.0], [1340.0, 290000.0], [1620.0, 461000.0], [4040.0, 760000.0], [1480.0, 307150.0], [4320.0, 1040000.0], [1690.0, 464550.0], [2010.0, 875000.0], [1420.0, 240000.0], [2510.0, 900000.0], [1550.0, 430000.0], [1984.0, 300000.0], [2230.0, 334950.0]], \"columns\": [{\"dtype\": \"str\", \"name\": \"id\"}, {\"dtype\": \"datetime\", \"name\": \"date\"}, {\"dtype\": \"float\", \"name\": \"price\"}, {\"dtype\": \"float\", \"name\": \"bedrooms\"}, {\"dtype\": \"float\", \"name\": \"bathrooms\"}, {\"dtype\": \"float\", \"name\": \"sqft_living\"}, {\"dtype\": \"int\", \"name\": \"sqft_lot\"}, {\"dtype\": \"str\", \"name\": \"floors\"}, {\"dtype\": \"int\", \"name\": \"waterfront\"}, {\"dtype\": \"int\", \"name\": \"view\"}, {\"dtype\": \"int\", \"name\": \"condition\"}, {\"dtype\": \"int\", \"name\": \"grade\"}, {\"dtype\": \"int\", \"name\": \"sqft_above\"}, {\"dtype\": \"int\", \"name\": \"sqft_basement\"}, {\"dtype\": \"int\", \"name\": \"yr_built\"}, {\"dtype\": \"int\", \"name\": \"yr_renovated\"}, {\"dtype\": \"str\", \"name\": \"zipcode\"}, {\"dtype\": \"float\", \"name\": \"lat\"}, {\"dtype\": \"float\", \"name\": \"long\"}, {\"dtype\": \"float\", \"name\": \"sqft_living15\"}, {\"dtype\": \"float\", \"name\": \"sqft_lot15\"}]}, e);\n",
       "                });\n",
       "            })();\n",
       "        "
      ]
     },
     "metadata": {},
     "output_type": "display_data"
    }
   ],
   "source": [
    "# 1. If you are using SFrame, import graphlab and load in the house\n",
    "# data, otherwise you can also download the csv. (Note that we will\n",
    "# be using the training and testing csv files provided). e.g in\n",
    "# python with SFrames:\n",
    "sales = graphlab.SFrame('kc_house_data.gl/')\n",
    "\n",
    "graphlab.canvas.set_target('ipynb')\n",
    "sales.show(view='Scatter Plot', x='sqft_living',y='price')"
   ]
  },
  {
   "cell_type": "code",
   "execution_count": 29,
   "metadata": {},
   "outputs": [],
   "source": [
    "# 2. Split data into 80% training and 20% test data. Using SFrame,\n",
    "# use this command to set the same seed for everyone. e.g. in\n",
    "# python with SFrames:\n",
    "train_data, test_data = sales.random_split(.8, seed=0)"
   ]
  },
  {
   "cell_type": "code",
   "execution_count": 7,
   "metadata": {},
   "outputs": [],
   "source": [
    "# 3. Write a generic function that accepts a column of data (e.g,\n",
    "# an SArray) ‘input_feature’ and another column ‘output’ and\n",
    "# returns the Simple Linear Regression parameters ‘intercept’ and\n",
    "# ‘slope’. Use the closed form solution from lecture to calculate\n",
    "# the slope and intercept. e.g. in python:"
   ]
  },
  {
   "cell_type": "code",
   "execution_count": 8,
   "metadata": {},
   "outputs": [],
   "source": [
    "def simple_linear_regression(input_feature, output):\n",
    "    #                       [  -2 sum_(i=1)^n (y_i-(w_0+w_1*x_i))    ]\n",
    "    # grad RSS(w_0, w_1) =  [                                        ]\n",
    "    #                       [ -2 sum_(i=1)^n (y_i-(w_0+w_1*x_i))x_i  ]\n",
    "    N = len(input_feature)\n",
    "    # sum_(i=1)^n y_i\n",
    "    sum_output = sum(output)\n",
    "    # sum_(i=1)^n x_i\n",
    "    sum_input = sum(input_feature)\n",
    "    # sum_(i=1)^n y_i*x_i\n",
    "    sum_output_input = sum([o*i for o,i in zip(output, input_feature)])\n",
    "    # sum_(i=1)^n x_i*x_i\n",
    "    sum_input_input = sum([i*i for i in input_feature])\n",
    "    \n",
    "    # Bottom term: ŵ_1\n",
    "    w_1 = ( sum_output_input - (sum_output*sum_input/N) ) / ( sum_input_input - (sum_input*sum_input/N) )\n",
    "    # ŵ_0 = <average output value> - <estimate of the slope> * <average input feature>\n",
    "    w_0 = sum_output/N - (w_1 * sum_input/N)\n",
    "    \n",
    "    intercept = w_0\n",
    "    slope = w_1\n",
    "    \n",
    "    return (intercept, slope)"
   ]
  },
  {
   "cell_type": "code",
   "execution_count": 9,
   "metadata": {},
   "outputs": [],
   "source": [
    "# 4. Use your function to calculate the estimated slope and intercept\n",
    "# on the training data to predict ‘price’ given ‘sqft_living’. e.g. in\n",
    "# python with SFrames using:\n",
    "input_feature = train_data['sqft_living']\n",
    "output = train_data['price']"
   ]
  },
  {
   "cell_type": "code",
   "execution_count": 10,
   "metadata": {},
   "outputs": [],
   "source": [
    "squarefeet_intercept,squarefeet_slope = simple_linear_regression(input_feature, output)"
   ]
  },
  {
   "cell_type": "code",
   "execution_count": 11,
   "metadata": {},
   "outputs": [],
   "source": [
    "# 5. Write a function that accepts a column of data ‘input_feature’,\n",
    "# the ‘slope’, and the ‘intercept’ you learned, and returns an a\n",
    "# column of predictions ‘predicted_output’ for each entry in the input\n",
    "# column. e.g. in python:"
   ]
  },
  {
   "cell_type": "code",
   "execution_count": 14,
   "metadata": {},
   "outputs": [],
   "source": [
    "def get_regression_predictions(input_feature, intercept, slope):\n",
    "    return input_feature*slope + intercept"
   ]
  },
  {
   "cell_type": "code",
   "execution_count": 15,
   "metadata": {},
   "outputs": [
    {
     "name": "stdout",
     "output_type": "stream",
     "text": [
      "700074.845629\n"
     ]
    }
   ],
   "source": [
    "# 6. Quiz Question: Using your Slope and Intercept from (4), What is\n",
    "# the predicted price for a house with 2650 sqft?\n",
    "print get_regression_predictions(2650, squarefeet_intercept, squarefeet_slope)"
   ]
  },
  {
   "cell_type": "code",
   "execution_count": 16,
   "metadata": {},
   "outputs": [],
   "source": [
    "# 9. Note that although we estimated the regression slope and intercept\n",
    "# in order to predict the output from the input, since this is a simple\n",
    "# linear relationship with only two variables we can invert the linear\n",
    "# function to estimate the input given the output!\n",
    "\n",
    "# Write a function that accept a column of data:‘output’ and the\n",
    "# regression parameters ‘slope’ and ‘intercept’ and outputs the column\n",
    "# of data: ‘estimated_input’. Do this by solving the linear function\n",
    "# output = intercept + slope*input for the ‘input’ variable (i.e.\n",
    "# ‘input’ should be on one side of the equals sign by itself). e.g.\n",
    "# in python:\n",
    "def inverse_regression_predictions(output, intercept, slope):\n",
    "    return (output - intercept) / slope"
   ]
  },
  {
   "cell_type": "code",
   "execution_count": 17,
   "metadata": {},
   "outputs": [
    {
     "name": "stdout",
     "output_type": "stream",
     "text": [
      "3004.39624762\n"
     ]
    }
   ],
   "source": [
    "# 10. Quiz Question: According to this function and the regression\n",
    "# slope and intercept from (3) what is the estimated square-feet for\n",
    "# a house costing $800,000?\n",
    "print inverse_regression_predictions(800000, squarefeet_intercept, squarefeet_slope)"
   ]
  },
  {
   "cell_type": "code",
   "execution_count": 18,
   "metadata": {},
   "outputs": [],
   "source": [
    "# 11. Instead of using ‘sqft_living’ to estimate prices we could use\n",
    "# ‘bedrooms’ (a count of the number of bedrooms in the house) to\n",
    "# estimate prices. Using your function from (3) calculate the Simple\n",
    "# Linear Regression slope and intercept for estimating price based on\n",
    "# bedrooms. Save this slope and intercept for later (you might want\n",
    "# to call them e.g. bedroom_slope, bedroom_intercept)."
   ]
  },
  {
   "cell_type": "code",
   "execution_count": 19,
   "metadata": {},
   "outputs": [],
   "source": [
    "input_feature_ii = train_data['bedrooms']"
   ]
  },
  {
   "cell_type": "code",
   "execution_count": 20,
   "metadata": {},
   "outputs": [],
   "source": [
    "bedroom_intercept,bedroom_slope = simple_linear_regression(input_feature_ii, output)"
   ]
  },
  {
   "cell_type": "code",
   "execution_count": 22,
   "metadata": {},
   "outputs": [
    {
     "name": "stdout",
     "output_type": "stream",
     "text": [
      "-47116.0765749 281.958838568\n",
      "109473.180469 127588.952175\n"
     ]
    }
   ],
   "source": [
    "print squarefeet_intercept, squarefeet_slope\n",
    "print bedroom_intercept, bedroom_slope"
   ]
  },
  {
   "cell_type": "code",
   "execution_count": 36,
   "metadata": {},
   "outputs": [],
   "source": [
    "# 12. Now that we have 2 different models compute the RSS from BOTH\n",
    "# models on TEST data.\n",
    "\n",
    "# 13. Quiz Question: Which model (square feet or bedrooms) has lowest\n",
    "# RSS on TEST data? Think about why this might be the case.\n",
    "\n",
    "def residual_sum_of_squares(input_feature, output, intercept, slope):\n",
    "    # RSS(w_0,w_1) = sum_(i=1)^n (y_i - (w_0 + w_1*x_i))^2\n",
    "    RSS = 0\n",
    "    for y_i, x_i in zip(output, input_feature):\n",
    "        RSS += (y_i - (intercept + slope*x_i))**2\n",
    "    return RSS"
   ]
  },
  {
   "cell_type": "code",
   "execution_count": 37,
   "metadata": {},
   "outputs": [
    {
     "name": "stdout",
     "output_type": "stream",
     "text": [
      "square feet:\n",
      "1.20191835632e+15\n",
      "2.75402936247e+14\n",
      "bedrooms:\n",
      "4.93364582868e+14\n"
     ]
    }
   ],
   "source": [
    "print \"square feet:\"\n",
    "print residual_sum_of_squares(train_data['sqft_living'], train_data['price'], squarefeet_intercept, squarefeet_slope)\n",
    "print residual_sum_of_squares(test_data['sqft_living'], test_data['price'], squarefeet_intercept, squarefeet_slope)\n",
    "\n",
    "print \"bedrooms:\"\n",
    "print residual_sum_of_squares(test_data['bedrooms'], test_data['price'], bedroom_intercept, bedroom_slope)"
   ]
  },
  {
   "cell_type": "code",
   "execution_count": 31,
   "metadata": {},
   "outputs": [],
   "source": [
    "import matplotlib.pyplot as plt"
   ]
  },
  {
   "cell_type": "code",
   "execution_count": 33,
   "metadata": {},
   "outputs": [
    {
     "data": {
      "text/plain": [
       "[<matplotlib.lines.Line2D at 0x7f811c0b6c50>,\n",
       " <matplotlib.lines.Line2D at 0x7f811c0b6cd0>]"
      ]
     },
     "execution_count": 33,
     "metadata": {},
     "output_type": "execute_result"
    },
    {
     "data": {
      "image/png": "[encoded data removed]",
      "text/plain": [
       "<Figure size 432x288 with 1 Axes>"
      ]
     },
     "metadata": {
      "needs_background": "light"
     },
     "output_type": "display_data"
    }
   ],
   "source": [
    "plt.plot(train_data['sqft_living'], train_data['price'], '.',\n",
    "         train_data['sqft_living'], get_regression_predictions(train_data['sqft_living'], squarefeet_intercept, squarefeet_slope), '-')"
   ]
  },
  {
   "cell_type": "code",
   "execution_count": 38,
   "metadata": {},
   "outputs": [
    {
     "data": {
      "text/plain": [
       "[<matplotlib.lines.Line2D at 0x7f8104f5fd50>,\n",
       " <matplotlib.lines.Line2D at 0x7f8104f5fdd0>]"
      ]
     },
     "execution_count": 38,
     "metadata": {},
     "output_type": "execute_result"
    },
    {
     "data": {
      "image/png": "[encoded data removed]",
      "text/plain": [
       "<Figure size 432x288 with 1 Axes>"
      ]
     },
     "metadata": {
      "needs_background": "light"
     },
     "output_type": "display_data"
    }
   ],
   "source": [
    "plt.plot(train_data['bedrooms'], train_data['price'], '.',\n",
    "         train_data['bedrooms'], get_regression_predictions(train_data['bedrooms'], bedroom_intercept, bedroom_slope), '-')"
   ]
  },
  {
   "cell_type": "code",
   "execution_count": null,
   "metadata": {},
   "outputs": [],
   "source": []
  }
 ],
 "metadata": {
  "kernelspec": {
   "display_name": "Python 2",
   "language": "python",
   "name": "python2"
  },
  "language_info": {
   "codemirror_mode": {
    "name": "ipython",
    "version": 2
   },
   "file_extension": ".py",
   "mimetype": "text/x-python",
   "name": "python",
   "nbconvert_exporter": "python",
   "pygments_lexer": "ipython2",
   "version": "2.7.15rc1"
  }
 },
 "nbformat": 4,
 "nbformat_minor": 2
}
